{
 "cells": [
  {
   "cell_type": "markdown",
   "metadata": {
    "id": "KUu-7BN3uig3"
   },
   "source": [
    "#Machine Learning"
   ]
  },
  {
   "cell_type": "code",
   "execution_count": 97,
   "metadata": {
    "id": "VNTHARLg_4Gv"
   },
   "outputs": [],
   "source": [
    "import pandas as pd\n",
    "from sklearn.model_selection import train_test_split\n",
    "from sklearn.linear_model import LinearRegression\n",
    "from sklearn.metrics import mean_squared_error\n",
    "import numpy as np"
   ]
  },
  {
   "cell_type": "code",
   "execution_count": 98,
   "metadata": {
    "id": "j1hXX7h9ARYo"
   },
   "outputs": [],
   "source": [
    "data = pd.read_csv('Weather Data and Air Quality Index of Chittagong.csv')"
   ]
  },
  {
   "cell_type": "markdown",
   "metadata": {
    "id": "HiuyuKDOVW-z"
   },
   "source": [
    "###Exploratory Data Analysis"
   ]
  },
  {
   "cell_type": "code",
   "execution_count": 99,
   "metadata": {
    "colab": {
     "base_uri": "https://localhost:8080/",
     "height": 256
    },
    "id": "C_ZQsHF3AZnE",
    "outputId": "db27b66e-7575-4ecb-ef20-7fcbb833490d"
   },
   "outputs": [
    {
     "data": {
      "text/html": [
       "\n",
       "  <div id=\"df-dd4cc88c-4a6a-4cdd-a328-086428dfe447\" class=\"colab-df-container\">\n",
       "    <div>\n",
       "<style scoped>\n",
       "    .dataframe tbody tr th:only-of-type {\n",
       "        vertical-align: middle;\n",
       "    }\n",
       "\n",
       "    .dataframe tbody tr th {\n",
       "        vertical-align: top;\n",
       "    }\n",
       "\n",
       "    .dataframe thead th {\n",
       "        text-align: right;\n",
       "    }\n",
       "</style>\n",
       "<table border=\"1\" class=\"dataframe\">\n",
       "  <thead>\n",
       "    <tr style=\"text-align: right;\">\n",
       "      <th></th>\n",
       "      <th>year</th>\n",
       "      <th>month</th>\n",
       "      <th>day</th>\n",
       "      <th>tempHigh</th>\n",
       "      <th>tempAvg</th>\n",
       "      <th>tempLow</th>\n",
       "      <th>DPHigh</th>\n",
       "      <th>DPAvg</th>\n",
       "      <th>DPLow</th>\n",
       "      <th>humidityHigh</th>\n",
       "      <th>...</th>\n",
       "      <th>humidityLow</th>\n",
       "      <th>SLPHigh</th>\n",
       "      <th>SLPAvg</th>\n",
       "      <th>SLPLow</th>\n",
       "      <th>visibilityHigh</th>\n",
       "      <th>visibilityAvg</th>\n",
       "      <th>visibilityLow</th>\n",
       "      <th>windAvg</th>\n",
       "      <th>Rainfall</th>\n",
       "      <th>AQI</th>\n",
       "    </tr>\n",
       "  </thead>\n",
       "  <tbody>\n",
       "    <tr>\n",
       "      <th>0</th>\n",
       "      <td>2014</td>\n",
       "      <td>1</td>\n",
       "      <td>3</td>\n",
       "      <td>26</td>\n",
       "      <td>21</td>\n",
       "      <td>15</td>\n",
       "      <td>15</td>\n",
       "      <td>14</td>\n",
       "      <td>12</td>\n",
       "      <td>83</td>\n",
       "      <td>...</td>\n",
       "      <td>42</td>\n",
       "      <td>1017</td>\n",
       "      <td>1015</td>\n",
       "      <td>1013</td>\n",
       "      <td>4</td>\n",
       "      <td>4</td>\n",
       "      <td>3</td>\n",
       "      <td>10</td>\n",
       "      <td>0.0</td>\n",
       "      <td>182.0</td>\n",
       "    </tr>\n",
       "    <tr>\n",
       "      <th>1</th>\n",
       "      <td>2014</td>\n",
       "      <td>1</td>\n",
       "      <td>4</td>\n",
       "      <td>26</td>\n",
       "      <td>20</td>\n",
       "      <td>15</td>\n",
       "      <td>16</td>\n",
       "      <td>14</td>\n",
       "      <td>12</td>\n",
       "      <td>83</td>\n",
       "      <td>...</td>\n",
       "      <td>46</td>\n",
       "      <td>1016</td>\n",
       "      <td>1013</td>\n",
       "      <td>1011</td>\n",
       "      <td>4</td>\n",
       "      <td>3</td>\n",
       "      <td>2</td>\n",
       "      <td>16</td>\n",
       "      <td>0.0</td>\n",
       "      <td>131.0</td>\n",
       "    </tr>\n",
       "    <tr>\n",
       "      <th>2</th>\n",
       "      <td>2014</td>\n",
       "      <td>1</td>\n",
       "      <td>5</td>\n",
       "      <td>24</td>\n",
       "      <td>19</td>\n",
       "      <td>13</td>\n",
       "      <td>15</td>\n",
       "      <td>14</td>\n",
       "      <td>13</td>\n",
       "      <td>88</td>\n",
       "      <td>...</td>\n",
       "      <td>50</td>\n",
       "      <td>1014</td>\n",
       "      <td>1011</td>\n",
       "      <td>1010</td>\n",
       "      <td>3</td>\n",
       "      <td>2</td>\n",
       "      <td>2</td>\n",
       "      <td>10</td>\n",
       "      <td>0.0</td>\n",
       "      <td>140.0</td>\n",
       "    </tr>\n",
       "    <tr>\n",
       "      <th>3</th>\n",
       "      <td>2014</td>\n",
       "      <td>1</td>\n",
       "      <td>6</td>\n",
       "      <td>24</td>\n",
       "      <td>18</td>\n",
       "      <td>13</td>\n",
       "      <td>15</td>\n",
       "      <td>13</td>\n",
       "      <td>11</td>\n",
       "      <td>94</td>\n",
       "      <td>...</td>\n",
       "      <td>44</td>\n",
       "      <td>1014</td>\n",
       "      <td>1013</td>\n",
       "      <td>1011</td>\n",
       "      <td>4</td>\n",
       "      <td>3</td>\n",
       "      <td>1</td>\n",
       "      <td>8</td>\n",
       "      <td>0.0</td>\n",
       "      <td>99.0</td>\n",
       "    </tr>\n",
       "    <tr>\n",
       "      <th>4</th>\n",
       "      <td>2014</td>\n",
       "      <td>1</td>\n",
       "      <td>7</td>\n",
       "      <td>26</td>\n",
       "      <td>20</td>\n",
       "      <td>14</td>\n",
       "      <td>17</td>\n",
       "      <td>13</td>\n",
       "      <td>11</td>\n",
       "      <td>91</td>\n",
       "      <td>...</td>\n",
       "      <td>29</td>\n",
       "      <td>1017</td>\n",
       "      <td>1014</td>\n",
       "      <td>1013</td>\n",
       "      <td>4</td>\n",
       "      <td>3</td>\n",
       "      <td>1</td>\n",
       "      <td>8</td>\n",
       "      <td>0.0</td>\n",
       "      <td>87.0</td>\n",
       "    </tr>\n",
       "  </tbody>\n",
       "</table>\n",
       "<p>5 rows × 21 columns</p>\n",
       "</div>\n",
       "    <div class=\"colab-df-buttons\">\n",
       "\n",
       "  <div class=\"colab-df-container\">\n",
       "    <button class=\"colab-df-convert\" onclick=\"convertToInteractive('df-dd4cc88c-4a6a-4cdd-a328-086428dfe447')\"\n",
       "            title=\"Convert this dataframe to an interactive table.\"\n",
       "            style=\"display:none;\">\n",
       "\n",
       "  <svg xmlns=\"http://www.w3.org/2000/svg\" height=\"24px\" viewBox=\"0 -960 960 960\">\n",
       "    <path d=\"M120-120v-720h720v720H120Zm60-500h600v-160H180v160Zm220 220h160v-160H400v160Zm0 220h160v-160H400v160ZM180-400h160v-160H180v160Zm440 0h160v-160H620v160ZM180-180h160v-160H180v160Zm440 0h160v-160H620v160Z\"/>\n",
       "  </svg>\n",
       "    </button>\n",
       "\n",
       "  <style>\n",
       "    .colab-df-container {\n",
       "      display:flex;\n",
       "      gap: 12px;\n",
       "    }\n",
       "\n",
       "    .colab-df-convert {\n",
       "      background-color: #E8F0FE;\n",
       "      border: none;\n",
       "      border-radius: 50%;\n",
       "      cursor: pointer;\n",
       "      display: none;\n",
       "      fill: #1967D2;\n",
       "      height: 32px;\n",
       "      padding: 0 0 0 0;\n",
       "      width: 32px;\n",
       "    }\n",
       "\n",
       "    .colab-df-convert:hover {\n",
       "      background-color: #E2EBFA;\n",
       "      box-shadow: 0px 1px 2px rgba(60, 64, 67, 0.3), 0px 1px 3px 1px rgba(60, 64, 67, 0.15);\n",
       "      fill: #174EA6;\n",
       "    }\n",
       "\n",
       "    .colab-df-buttons div {\n",
       "      margin-bottom: 4px;\n",
       "    }\n",
       "\n",
       "    [theme=dark] .colab-df-convert {\n",
       "      background-color: #3B4455;\n",
       "      fill: #D2E3FC;\n",
       "    }\n",
       "\n",
       "    [theme=dark] .colab-df-convert:hover {\n",
       "      background-color: #434B5C;\n",
       "      box-shadow: 0px 1px 3px 1px rgba(0, 0, 0, 0.15);\n",
       "      filter: drop-shadow(0px 1px 2px rgba(0, 0, 0, 0.3));\n",
       "      fill: #FFFFFF;\n",
       "    }\n",
       "  </style>\n",
       "\n",
       "    <script>\n",
       "      const buttonEl =\n",
       "        document.querySelector('#df-dd4cc88c-4a6a-4cdd-a328-086428dfe447 button.colab-df-convert');\n",
       "      buttonEl.style.display =\n",
       "        google.colab.kernel.accessAllowed ? 'block' : 'none';\n",
       "\n",
       "      async function convertToInteractive(key) {\n",
       "        const element = document.querySelector('#df-dd4cc88c-4a6a-4cdd-a328-086428dfe447');\n",
       "        const dataTable =\n",
       "          await google.colab.kernel.invokeFunction('convertToInteractive',\n",
       "                                                    [key], {});\n",
       "        if (!dataTable) return;\n",
       "\n",
       "        const docLinkHtml = 'Like what you see? Visit the ' +\n",
       "          '<a target=\"_blank\" href=https://colab.research.google.com/notebooks/data_table.ipynb>data table notebook</a>'\n",
       "          + ' to learn more about interactive tables.';\n",
       "        element.innerHTML = '';\n",
       "        dataTable['output_type'] = 'display_data';\n",
       "        await google.colab.output.renderOutput(dataTable, element);\n",
       "        const docLink = document.createElement('div');\n",
       "        docLink.innerHTML = docLinkHtml;\n",
       "        element.appendChild(docLink);\n",
       "      }\n",
       "    </script>\n",
       "  </div>\n",
       "\n",
       "\n",
       "<div id=\"df-e34b81f7-c8d8-40aa-a9a0-4c4adb7e819b\">\n",
       "  <button class=\"colab-df-quickchart\" onclick=\"quickchart('df-e34b81f7-c8d8-40aa-a9a0-4c4adb7e819b')\"\n",
       "            title=\"Suggest charts.\"\n",
       "            style=\"display:none;\">\n",
       "\n",
       "<svg xmlns=\"http://www.w3.org/2000/svg\" height=\"24px\"viewBox=\"0 0 24 24\"\n",
       "     width=\"24px\">\n",
       "    <g>\n",
       "        <path d=\"M19 3H5c-1.1 0-2 .9-2 2v14c0 1.1.9 2 2 2h14c1.1 0 2-.9 2-2V5c0-1.1-.9-2-2-2zM9 17H7v-7h2v7zm4 0h-2V7h2v10zm4 0h-2v-4h2v4z\"/>\n",
       "    </g>\n",
       "</svg>\n",
       "  </button>\n",
       "\n",
       "<style>\n",
       "  .colab-df-quickchart {\n",
       "    background-color: #E8F0FE;\n",
       "    border: none;\n",
       "    border-radius: 50%;\n",
       "    cursor: pointer;\n",
       "    display: none;\n",
       "    fill: #1967D2;\n",
       "    height: 32px;\n",
       "    padding: 0 0 0 0;\n",
       "    width: 32px;\n",
       "  }\n",
       "\n",
       "  .colab-df-quickchart:hover {\n",
       "    background-color: #E2EBFA;\n",
       "    box-shadow: 0px 1px 2px rgba(60, 64, 67, 0.3), 0px 1px 3px 1px rgba(60, 64, 67, 0.15);\n",
       "    fill: #174EA6;\n",
       "  }\n",
       "\n",
       "  [theme=dark] .colab-df-quickchart {\n",
       "    background-color: #3B4455;\n",
       "    fill: #D2E3FC;\n",
       "  }\n",
       "\n",
       "  [theme=dark] .colab-df-quickchart:hover {\n",
       "    background-color: #434B5C;\n",
       "    box-shadow: 0px 1px 3px 1px rgba(0, 0, 0, 0.15);\n",
       "    filter: drop-shadow(0px 1px 2px rgba(0, 0, 0, 0.3));\n",
       "    fill: #FFFFFF;\n",
       "  }\n",
       "</style>\n",
       "\n",
       "  <script>\n",
       "    async function quickchart(key) {\n",
       "      const charts = await google.colab.kernel.invokeFunction(\n",
       "          'suggestCharts', [key], {});\n",
       "    }\n",
       "    (() => {\n",
       "      let quickchartButtonEl =\n",
       "        document.querySelector('#df-e34b81f7-c8d8-40aa-a9a0-4c4adb7e819b button');\n",
       "      quickchartButtonEl.style.display =\n",
       "        google.colab.kernel.accessAllowed ? 'block' : 'none';\n",
       "    })();\n",
       "  </script>\n",
       "</div>\n",
       "    </div>\n",
       "  </div>\n"
      ],
      "text/plain": [
       "   year  month  day  tempHigh  tempAvg  tempLow  DPHigh  DPAvg  DPLow  \\\n",
       "0  2014      1    3        26       21       15      15     14     12   \n",
       "1  2014      1    4        26       20       15      16     14     12   \n",
       "2  2014      1    5        24       19       13      15     14     13   \n",
       "3  2014      1    6        24       18       13      15     13     11   \n",
       "4  2014      1    7        26       20       14      17     13     11   \n",
       "\n",
       "   humidityHigh  ...  humidityLow  SLPHigh  SLPAvg  SLPLow  visibilityHigh  \\\n",
       "0            83  ...           42     1017    1015    1013               4   \n",
       "1            83  ...           46     1016    1013    1011               4   \n",
       "2            88  ...           50     1014    1011    1010               3   \n",
       "3            94  ...           44     1014    1013    1011               4   \n",
       "4            91  ...           29     1017    1014    1013               4   \n",
       "\n",
       "   visibilityAvg  visibilityLow  windAvg  Rainfall    AQI  \n",
       "0              4              3       10       0.0  182.0  \n",
       "1              3              2       16       0.0  131.0  \n",
       "2              2              2       10       0.0  140.0  \n",
       "3              3              1        8       0.0   99.0  \n",
       "4              3              1        8       0.0   87.0  \n",
       "\n",
       "[5 rows x 21 columns]"
      ]
     },
     "execution_count": 99,
     "metadata": {},
     "output_type": "execute_result"
    }
   ],
   "source": [
    "data.head()"
   ]
  },
  {
   "cell_type": "code",
   "execution_count": 100,
   "metadata": {
    "colab": {
     "base_uri": "https://localhost:8080/",
     "height": 350
    },
    "id": "B2YUIjNBAebX",
    "outputId": "b82ad629-0613-44d3-a280-b6d0ea521826"
   },
   "outputs": [
    {
     "data": {
      "text/html": [
       "\n",
       "  <div id=\"df-801aa7f7-dcad-4443-aa80-619e048bc80c\" class=\"colab-df-container\">\n",
       "    <div>\n",
       "<style scoped>\n",
       "    .dataframe tbody tr th:only-of-type {\n",
       "        vertical-align: middle;\n",
       "    }\n",
       "\n",
       "    .dataframe tbody tr th {\n",
       "        vertical-align: top;\n",
       "    }\n",
       "\n",
       "    .dataframe thead th {\n",
       "        text-align: right;\n",
       "    }\n",
       "</style>\n",
       "<table border=\"1\" class=\"dataframe\">\n",
       "  <thead>\n",
       "    <tr style=\"text-align: right;\">\n",
       "      <th></th>\n",
       "      <th>year</th>\n",
       "      <th>month</th>\n",
       "      <th>day</th>\n",
       "      <th>tempHigh</th>\n",
       "      <th>tempAvg</th>\n",
       "      <th>tempLow</th>\n",
       "      <th>DPHigh</th>\n",
       "      <th>DPAvg</th>\n",
       "      <th>DPLow</th>\n",
       "      <th>humidityHigh</th>\n",
       "      <th>...</th>\n",
       "      <th>humidityLow</th>\n",
       "      <th>SLPHigh</th>\n",
       "      <th>SLPAvg</th>\n",
       "      <th>SLPLow</th>\n",
       "      <th>visibilityHigh</th>\n",
       "      <th>visibilityAvg</th>\n",
       "      <th>visibilityLow</th>\n",
       "      <th>windAvg</th>\n",
       "      <th>Rainfall</th>\n",
       "      <th>AQI</th>\n",
       "    </tr>\n",
       "  </thead>\n",
       "  <tbody>\n",
       "    <tr>\n",
       "      <th>count</th>\n",
       "      <td>1275.000000</td>\n",
       "      <td>1275.000000</td>\n",
       "      <td>1275.000000</td>\n",
       "      <td>1275.000000</td>\n",
       "      <td>1275.000000</td>\n",
       "      <td>1275.000000</td>\n",
       "      <td>1275.000000</td>\n",
       "      <td>1275.000000</td>\n",
       "      <td>1275.000000</td>\n",
       "      <td>1275.000000</td>\n",
       "      <td>...</td>\n",
       "      <td>1275.000000</td>\n",
       "      <td>1275.000000</td>\n",
       "      <td>1275.00000</td>\n",
       "      <td>1275.000000</td>\n",
       "      <td>1275.000000</td>\n",
       "      <td>1275.000000</td>\n",
       "      <td>1275.000000</td>\n",
       "      <td>1275.000000</td>\n",
       "      <td>1275.000000</td>\n",
       "      <td>1275.000000</td>\n",
       "    </tr>\n",
       "    <tr>\n",
       "      <th>mean</th>\n",
       "      <td>2015.553725</td>\n",
       "      <td>6.667451</td>\n",
       "      <td>15.958431</td>\n",
       "      <td>30.560784</td>\n",
       "      <td>26.539608</td>\n",
       "      <td>22.612549</td>\n",
       "      <td>23.798431</td>\n",
       "      <td>22.029020</td>\n",
       "      <td>19.810980</td>\n",
       "      <td>91.453333</td>\n",
       "      <td>...</td>\n",
       "      <td>53.034510</td>\n",
       "      <td>1010.269020</td>\n",
       "      <td>1007.94902</td>\n",
       "      <td>1005.782745</td>\n",
       "      <td>5.356078</td>\n",
       "      <td>4.404706</td>\n",
       "      <td>2.901176</td>\n",
       "      <td>8.648627</td>\n",
       "      <td>2.716729</td>\n",
       "      <td>125.266275</td>\n",
       "    </tr>\n",
       "    <tr>\n",
       "      <th>std</th>\n",
       "      <td>1.109071</td>\n",
       "      <td>3.443990</td>\n",
       "      <td>8.663643</td>\n",
       "      <td>2.854950</td>\n",
       "      <td>3.284609</td>\n",
       "      <td>4.127729</td>\n",
       "      <td>3.966817</td>\n",
       "      <td>4.614489</td>\n",
       "      <td>5.614475</td>\n",
       "      <td>5.834718</td>\n",
       "      <td>...</td>\n",
       "      <td>16.809125</td>\n",
       "      <td>5.036813</td>\n",
       "      <td>4.87019</td>\n",
       "      <td>4.917436</td>\n",
       "      <td>2.469649</td>\n",
       "      <td>1.050219</td>\n",
       "      <td>1.476543</td>\n",
       "      <td>5.160880</td>\n",
       "      <td>9.482529</td>\n",
       "      <td>90.060305</td>\n",
       "    </tr>\n",
       "    <tr>\n",
       "      <th>min</th>\n",
       "      <td>2014.000000</td>\n",
       "      <td>1.000000</td>\n",
       "      <td>1.000000</td>\n",
       "      <td>18.000000</td>\n",
       "      <td>17.000000</td>\n",
       "      <td>10.000000</td>\n",
       "      <td>11.000000</td>\n",
       "      <td>8.000000</td>\n",
       "      <td>0.000000</td>\n",
       "      <td>48.000000</td>\n",
       "      <td>...</td>\n",
       "      <td>4.000000</td>\n",
       "      <td>996.000000</td>\n",
       "      <td>991.00000</td>\n",
       "      <td>986.000000</td>\n",
       "      <td>3.000000</td>\n",
       "      <td>1.000000</td>\n",
       "      <td>0.000000</td>\n",
       "      <td>0.000000</td>\n",
       "      <td>0.000000</td>\n",
       "      <td>0.000000</td>\n",
       "    </tr>\n",
       "    <tr>\n",
       "      <th>25%</th>\n",
       "      <td>2015.000000</td>\n",
       "      <td>4.000000</td>\n",
       "      <td>9.000000</td>\n",
       "      <td>29.000000</td>\n",
       "      <td>24.000000</td>\n",
       "      <td>19.000000</td>\n",
       "      <td>21.000000</td>\n",
       "      <td>18.000000</td>\n",
       "      <td>16.000000</td>\n",
       "      <td>89.000000</td>\n",
       "      <td>...</td>\n",
       "      <td>42.000000</td>\n",
       "      <td>1007.000000</td>\n",
       "      <td>1004.00000</td>\n",
       "      <td>1002.000000</td>\n",
       "      <td>4.000000</td>\n",
       "      <td>4.000000</td>\n",
       "      <td>2.000000</td>\n",
       "      <td>5.000000</td>\n",
       "      <td>0.000000</td>\n",
       "      <td>53.000000</td>\n",
       "    </tr>\n",
       "    <tr>\n",
       "      <th>50%</th>\n",
       "      <td>2016.000000</td>\n",
       "      <td>7.000000</td>\n",
       "      <td>16.000000</td>\n",
       "      <td>31.000000</td>\n",
       "      <td>28.000000</td>\n",
       "      <td>24.000000</td>\n",
       "      <td>26.000000</td>\n",
       "      <td>24.000000</td>\n",
       "      <td>22.000000</td>\n",
       "      <td>94.000000</td>\n",
       "      <td>...</td>\n",
       "      <td>55.000000</td>\n",
       "      <td>1011.000000</td>\n",
       "      <td>1008.00000</td>\n",
       "      <td>1006.000000</td>\n",
       "      <td>5.000000</td>\n",
       "      <td>5.000000</td>\n",
       "      <td>3.000000</td>\n",
       "      <td>8.000000</td>\n",
       "      <td>0.000000</td>\n",
       "      <td>101.000000</td>\n",
       "    </tr>\n",
       "    <tr>\n",
       "      <th>75%</th>\n",
       "      <td>2017.000000</td>\n",
       "      <td>10.000000</td>\n",
       "      <td>23.000000</td>\n",
       "      <td>33.000000</td>\n",
       "      <td>29.000000</td>\n",
       "      <td>26.000000</td>\n",
       "      <td>27.000000</td>\n",
       "      <td>26.000000</td>\n",
       "      <td>24.000000</td>\n",
       "      <td>94.000000</td>\n",
       "      <td>...</td>\n",
       "      <td>65.000000</td>\n",
       "      <td>1014.000000</td>\n",
       "      <td>1012.00000</td>\n",
       "      <td>1010.000000</td>\n",
       "      <td>6.000000</td>\n",
       "      <td>5.000000</td>\n",
       "      <td>4.000000</td>\n",
       "      <td>11.000000</td>\n",
       "      <td>0.510000</td>\n",
       "      <td>175.000000</td>\n",
       "    </tr>\n",
       "    <tr>\n",
       "      <th>max</th>\n",
       "      <td>2017.000000</td>\n",
       "      <td>12.000000</td>\n",
       "      <td>31.000000</td>\n",
       "      <td>51.000000</td>\n",
       "      <td>39.000000</td>\n",
       "      <td>29.000000</td>\n",
       "      <td>32.000000</td>\n",
       "      <td>28.000000</td>\n",
       "      <td>27.000000</td>\n",
       "      <td>100.000000</td>\n",
       "      <td>...</td>\n",
       "      <td>94.000000</td>\n",
       "      <td>1044.000000</td>\n",
       "      <td>1018.00000</td>\n",
       "      <td>1017.000000</td>\n",
       "      <td>27.000000</td>\n",
       "      <td>6.000000</td>\n",
       "      <td>6.000000</td>\n",
       "      <td>34.000000</td>\n",
       "      <td>116.080000</td>\n",
       "      <td>556.000000</td>\n",
       "    </tr>\n",
       "  </tbody>\n",
       "</table>\n",
       "<p>8 rows × 21 columns</p>\n",
       "</div>\n",
       "    <div class=\"colab-df-buttons\">\n",
       "\n",
       "  <div class=\"colab-df-container\">\n",
       "    <button class=\"colab-df-convert\" onclick=\"convertToInteractive('df-801aa7f7-dcad-4443-aa80-619e048bc80c')\"\n",
       "            title=\"Convert this dataframe to an interactive table.\"\n",
       "            style=\"display:none;\">\n",
       "\n",
       "  <svg xmlns=\"http://www.w3.org/2000/svg\" height=\"24px\" viewBox=\"0 -960 960 960\">\n",
       "    <path d=\"M120-120v-720h720v720H120Zm60-500h600v-160H180v160Zm220 220h160v-160H400v160Zm0 220h160v-160H400v160ZM180-400h160v-160H180v160Zm440 0h160v-160H620v160ZM180-180h160v-160H180v160Zm440 0h160v-160H620v160Z\"/>\n",
       "  </svg>\n",
       "    </button>\n",
       "\n",
       "  <style>\n",
       "    .colab-df-container {\n",
       "      display:flex;\n",
       "      gap: 12px;\n",
       "    }\n",
       "\n",
       "    .colab-df-convert {\n",
       "      background-color: #E8F0FE;\n",
       "      border: none;\n",
       "      border-radius: 50%;\n",
       "      cursor: pointer;\n",
       "      display: none;\n",
       "      fill: #1967D2;\n",
       "      height: 32px;\n",
       "      padding: 0 0 0 0;\n",
       "      width: 32px;\n",
       "    }\n",
       "\n",
       "    .colab-df-convert:hover {\n",
       "      background-color: #E2EBFA;\n",
       "      box-shadow: 0px 1px 2px rgba(60, 64, 67, 0.3), 0px 1px 3px 1px rgba(60, 64, 67, 0.15);\n",
       "      fill: #174EA6;\n",
       "    }\n",
       "\n",
       "    .colab-df-buttons div {\n",
       "      margin-bottom: 4px;\n",
       "    }\n",
       "\n",
       "    [theme=dark] .colab-df-convert {\n",
       "      background-color: #3B4455;\n",
       "      fill: #D2E3FC;\n",
       "    }\n",
       "\n",
       "    [theme=dark] .colab-df-convert:hover {\n",
       "      background-color: #434B5C;\n",
       "      box-shadow: 0px 1px 3px 1px rgba(0, 0, 0, 0.15);\n",
       "      filter: drop-shadow(0px 1px 2px rgba(0, 0, 0, 0.3));\n",
       "      fill: #FFFFFF;\n",
       "    }\n",
       "  </style>\n",
       "\n",
       "    <script>\n",
       "      const buttonEl =\n",
       "        document.querySelector('#df-801aa7f7-dcad-4443-aa80-619e048bc80c button.colab-df-convert');\n",
       "      buttonEl.style.display =\n",
       "        google.colab.kernel.accessAllowed ? 'block' : 'none';\n",
       "\n",
       "      async function convertToInteractive(key) {\n",
       "        const element = document.querySelector('#df-801aa7f7-dcad-4443-aa80-619e048bc80c');\n",
       "        const dataTable =\n",
       "          await google.colab.kernel.invokeFunction('convertToInteractive',\n",
       "                                                    [key], {});\n",
       "        if (!dataTable) return;\n",
       "\n",
       "        const docLinkHtml = 'Like what you see? Visit the ' +\n",
       "          '<a target=\"_blank\" href=https://colab.research.google.com/notebooks/data_table.ipynb>data table notebook</a>'\n",
       "          + ' to learn more about interactive tables.';\n",
       "        element.innerHTML = '';\n",
       "        dataTable['output_type'] = 'display_data';\n",
       "        await google.colab.output.renderOutput(dataTable, element);\n",
       "        const docLink = document.createElement('div');\n",
       "        docLink.innerHTML = docLinkHtml;\n",
       "        element.appendChild(docLink);\n",
       "      }\n",
       "    </script>\n",
       "  </div>\n",
       "\n",
       "\n",
       "<div id=\"df-b4083482-6059-46ea-a63d-1a8f894668a5\">\n",
       "  <button class=\"colab-df-quickchart\" onclick=\"quickchart('df-b4083482-6059-46ea-a63d-1a8f894668a5')\"\n",
       "            title=\"Suggest charts.\"\n",
       "            style=\"display:none;\">\n",
       "\n",
       "<svg xmlns=\"http://www.w3.org/2000/svg\" height=\"24px\"viewBox=\"0 0 24 24\"\n",
       "     width=\"24px\">\n",
       "    <g>\n",
       "        <path d=\"M19 3H5c-1.1 0-2 .9-2 2v14c0 1.1.9 2 2 2h14c1.1 0 2-.9 2-2V5c0-1.1-.9-2-2-2zM9 17H7v-7h2v7zm4 0h-2V7h2v10zm4 0h-2v-4h2v4z\"/>\n",
       "    </g>\n",
       "</svg>\n",
       "  </button>\n",
       "\n",
       "<style>\n",
       "  .colab-df-quickchart {\n",
       "    background-color: #E8F0FE;\n",
       "    border: none;\n",
       "    border-radius: 50%;\n",
       "    cursor: pointer;\n",
       "    display: none;\n",
       "    fill: #1967D2;\n",
       "    height: 32px;\n",
       "    padding: 0 0 0 0;\n",
       "    width: 32px;\n",
       "  }\n",
       "\n",
       "  .colab-df-quickchart:hover {\n",
       "    background-color: #E2EBFA;\n",
       "    box-shadow: 0px 1px 2px rgba(60, 64, 67, 0.3), 0px 1px 3px 1px rgba(60, 64, 67, 0.15);\n",
       "    fill: #174EA6;\n",
       "  }\n",
       "\n",
       "  [theme=dark] .colab-df-quickchart {\n",
       "    background-color: #3B4455;\n",
       "    fill: #D2E3FC;\n",
       "  }\n",
       "\n",
       "  [theme=dark] .colab-df-quickchart:hover {\n",
       "    background-color: #434B5C;\n",
       "    box-shadow: 0px 1px 3px 1px rgba(0, 0, 0, 0.15);\n",
       "    filter: drop-shadow(0px 1px 2px rgba(0, 0, 0, 0.3));\n",
       "    fill: #FFFFFF;\n",
       "  }\n",
       "</style>\n",
       "\n",
       "  <script>\n",
       "    async function quickchart(key) {\n",
       "      const charts = await google.colab.kernel.invokeFunction(\n",
       "          'suggestCharts', [key], {});\n",
       "    }\n",
       "    (() => {\n",
       "      let quickchartButtonEl =\n",
       "        document.querySelector('#df-b4083482-6059-46ea-a63d-1a8f894668a5 button');\n",
       "      quickchartButtonEl.style.display =\n",
       "        google.colab.kernel.accessAllowed ? 'block' : 'none';\n",
       "    })();\n",
       "  </script>\n",
       "</div>\n",
       "    </div>\n",
       "  </div>\n"
      ],
      "text/plain": [
       "              year        month          day     tempHigh      tempAvg  \\\n",
       "count  1275.000000  1275.000000  1275.000000  1275.000000  1275.000000   \n",
       "mean   2015.553725     6.667451    15.958431    30.560784    26.539608   \n",
       "std       1.109071     3.443990     8.663643     2.854950     3.284609   \n",
       "min    2014.000000     1.000000     1.000000    18.000000    17.000000   \n",
       "25%    2015.000000     4.000000     9.000000    29.000000    24.000000   \n",
       "50%    2016.000000     7.000000    16.000000    31.000000    28.000000   \n",
       "75%    2017.000000    10.000000    23.000000    33.000000    29.000000   \n",
       "max    2017.000000    12.000000    31.000000    51.000000    39.000000   \n",
       "\n",
       "           tempLow       DPHigh        DPAvg        DPLow  humidityHigh  ...  \\\n",
       "count  1275.000000  1275.000000  1275.000000  1275.000000   1275.000000  ...   \n",
       "mean     22.612549    23.798431    22.029020    19.810980     91.453333  ...   \n",
       "std       4.127729     3.966817     4.614489     5.614475      5.834718  ...   \n",
       "min      10.000000    11.000000     8.000000     0.000000     48.000000  ...   \n",
       "25%      19.000000    21.000000    18.000000    16.000000     89.000000  ...   \n",
       "50%      24.000000    26.000000    24.000000    22.000000     94.000000  ...   \n",
       "75%      26.000000    27.000000    26.000000    24.000000     94.000000  ...   \n",
       "max      29.000000    32.000000    28.000000    27.000000    100.000000  ...   \n",
       "\n",
       "       humidityLow      SLPHigh      SLPAvg       SLPLow  visibilityHigh  \\\n",
       "count  1275.000000  1275.000000  1275.00000  1275.000000     1275.000000   \n",
       "mean     53.034510  1010.269020  1007.94902  1005.782745        5.356078   \n",
       "std      16.809125     5.036813     4.87019     4.917436        2.469649   \n",
       "min       4.000000   996.000000   991.00000   986.000000        3.000000   \n",
       "25%      42.000000  1007.000000  1004.00000  1002.000000        4.000000   \n",
       "50%      55.000000  1011.000000  1008.00000  1006.000000        5.000000   \n",
       "75%      65.000000  1014.000000  1012.00000  1010.000000        6.000000   \n",
       "max      94.000000  1044.000000  1018.00000  1017.000000       27.000000   \n",
       "\n",
       "       visibilityAvg  visibilityLow      windAvg     Rainfall          AQI  \n",
       "count    1275.000000    1275.000000  1275.000000  1275.000000  1275.000000  \n",
       "mean        4.404706       2.901176     8.648627     2.716729   125.266275  \n",
       "std         1.050219       1.476543     5.160880     9.482529    90.060305  \n",
       "min         1.000000       0.000000     0.000000     0.000000     0.000000  \n",
       "25%         4.000000       2.000000     5.000000     0.000000    53.000000  \n",
       "50%         5.000000       3.000000     8.000000     0.000000   101.000000  \n",
       "75%         5.000000       4.000000    11.000000     0.510000   175.000000  \n",
       "max         6.000000       6.000000    34.000000   116.080000   556.000000  \n",
       "\n",
       "[8 rows x 21 columns]"
      ]
     },
     "execution_count": 100,
     "metadata": {},
     "output_type": "execute_result"
    }
   ],
   "source": [
    "data.describe()"
   ]
  },
  {
   "cell_type": "code",
   "execution_count": 101,
   "metadata": {
    "id": "yDPqyKiL6gKt"
   },
   "outputs": [],
   "source": [
    "import matplotlib.pyplot as plt\n",
    "import seaborn as sns"
   ]
  },
  {
   "cell_type": "code",
   "execution_count": 102,
   "metadata": {
    "colab": {
     "base_uri": "https://localhost:8080/",
     "height": 448
    },
    "id": "Ltm1M3Da6nx1",
    "outputId": "e0297976-6143-4629-a770-b9f3fa2f059a"
   },
   "outputs": [
    {
     "data": {
      "text/plain": [
       "<BarContainer object of 1275 artists>"
      ]
     },
     "execution_count": 102,
     "metadata": {},
     "output_type": "execute_result"
    },
    {
     "data": {
      "image/png": "[encoded data removed]",
      "text/plain": [
       "<Figure size 640x480 with 1 Axes>"
      ]
     },
     "metadata": {},
     "output_type": "display_data"
    }
   ],
   "source": [
    "plt.bar(data['month'],data['Rainfall'])"
   ]
  },
  {
   "cell_type": "markdown",
   "metadata": {
    "id": "AQZWQLLqVcBe"
   },
   "source": [
    "Comment - As we can see the Month of February has observed nearly zero amount of Rainfall and on the other hand June, July and August has noticed most amount of rainfall where August remains in the Peak.\n",
    "\n",
    "From here we can say that these three months are generaly the rainy months of Chittagong"
   ]
  },
  {
   "cell_type": "code",
   "execution_count": 103,
   "metadata": {
    "colab": {
     "base_uri": "https://localhost:8080/",
     "height": 448
    },
    "id": "ehKh3COnXQHa",
    "outputId": "9c1dd5a8-c5f6-49ab-cc08-93d694b9e307"
   },
   "outputs": [
    {
     "data": {
      "text/plain": [
       "<BarContainer object of 1275 artists>"
      ]
     },
     "execution_count": 103,
     "metadata": {},
     "output_type": "execute_result"
    },
    {
     "data": {
      "image/png": "[encoded data removed]",
      "text/plain": [
       "<Figure size 640x480 with 1 Axes>"
      ]
     },
     "metadata": {},
     "output_type": "display_data"
    }
   ],
   "source": [
    "plt.bar(data['month'],data['tempAvg'])"
   ]
  },
  {
   "cell_type": "markdown",
   "metadata": {
    "id": "LJWl-8DcXk_a"
   },
   "source": [
    "Comment -\n",
    "January is the month with lowest temperatue.\n",
    "Hottest Month is May according to plot."
   ]
  },
  {
   "cell_type": "code",
   "execution_count": 104,
   "metadata": {
    "colab": {
     "base_uri": "https://localhost:8080/",
     "height": 467
    },
    "id": "uG7uKdrZZJwl",
    "outputId": "ad727037-9606-4f97-d838-999e723e3328"
   },
   "outputs": [
    {
     "data": {
      "text/plain": [
       "<Axes: xlabel='month', ylabel='AQI'>"
      ]
     },
     "execution_count": 104,
     "metadata": {},
     "output_type": "execute_result"
    },
    {
     "data": {
      "image/png": "[encoded data removed]",
      "text/plain": [
       "<Figure size 640x480 with 1 Axes>"
      ]
     },
     "metadata": {},
     "output_type": "display_data"
    }
   ],
   "source": [
    "sns.lineplot(x=\"month\", y=\"AQI\", data=data)\n",
    "\n",
    "#sns.lmplot(data=data, x=\"month\", y=\"AQI\")"
   ]
  },
  {
   "cell_type": "markdown",
   "metadata": {
    "id": "A-HNxX78bKW7"
   },
   "source": [
    "Comment - During the winter season (Month December to February) The AIR quality downgrades."
   ]
  },
  {
   "cell_type": "code",
   "execution_count": 105,
   "metadata": {
    "colab": {
     "base_uri": "https://localhost:8080/",
     "height": 0
    },
    "id": "3R_0_qtdDLjv",
    "outputId": "211a803d-4309-4b80-82b1-8f104bf657ac"
   },
   "outputs": [
    {
     "name": "stdout",
     "output_type": "stream",
     "text": [
      "Index(['year', 'month', 'day', 'tempHigh', 'tempAvg', 'tempLow', 'DPHigh',\n",
      "       'DPAvg', 'DPLow', 'humidityHigh', 'humidityAvg', 'humidityLow',\n",
      "       'SLPHigh', 'SLPAvg', 'SLPLow', 'visibilityHigh', 'visibilityAvg',\n",
      "       'visibilityLow', 'windAvg', 'Rainfall', 'AQI'],\n",
      "      dtype='object')\n"
     ]
    }
   ],
   "source": [
    "print(data.columns)"
   ]
  },
  {
   "cell_type": "code",
   "execution_count": 106,
   "metadata": {
    "colab": {
     "base_uri": "https://localhost:8080/",
     "height": 0
    },
    "id": "yKaWXqKIDkSW",
    "outputId": "4b703150-49c8-43b4-97e9-c6d1b1f2a1b5"
   },
   "outputs": [
    {
     "name": "stdout",
     "output_type": "stream",
     "text": [
      "<class 'pandas.core.frame.DataFrame'>\n",
      "RangeIndex: 1275 entries, 0 to 1274\n",
      "Data columns (total 21 columns):\n",
      " #   Column          Non-Null Count  Dtype  \n",
      "---  ------          --------------  -----  \n",
      " 0   year            1275 non-null   int64  \n",
      " 1   month           1275 non-null   int64  \n",
      " 2   day             1275 non-null   int64  \n",
      " 3   tempHigh        1275 non-null   int64  \n",
      " 4   tempAvg         1275 non-null   int64  \n",
      " 5   tempLow         1275 non-null   int64  \n",
      " 6   DPHigh          1275 non-null   int64  \n",
      " 7   DPAvg           1275 non-null   int64  \n",
      " 8   DPLow           1275 non-null   int64  \n",
      " 9   humidityHigh    1275 non-null   int64  \n",
      " 10  humidityAvg     1275 non-null   int64  \n",
      " 11  humidityLow     1275 non-null   int64  \n",
      " 12  SLPHigh         1275 non-null   int64  \n",
      " 13  SLPAvg          1275 non-null   int64  \n",
      " 14  SLPLow          1275 non-null   int64  \n",
      " 15  visibilityHigh  1275 non-null   int64  \n",
      " 16  visibilityAvg   1275 non-null   int64  \n",
      " 17  visibilityLow   1275 non-null   int64  \n",
      " 18  windAvg         1275 non-null   int64  \n",
      " 19  Rainfall        1275 non-null   float64\n",
      " 20  AQI             1275 non-null   float64\n",
      "dtypes: float64(2), int64(19)\n",
      "memory usage: 209.3 KB\n"
     ]
    }
   ],
   "source": [
    "data.info()"
   ]
  },
  {
   "cell_type": "code",
   "execution_count": 107,
   "metadata": {
    "colab": {
     "base_uri": "https://localhost:8080/",
     "height": 0
    },
    "id": "A7_N6SYNDqyF",
    "outputId": "4c3796cf-325f-4fcc-b3e0-9550c5a471ac"
   },
   "outputs": [
    {
     "name": "stdout",
     "output_type": "stream",
     "text": [
      "(1275, 21)\n"
     ]
    }
   ],
   "source": [
    "print(data.shape)"
   ]
  },
  {
   "cell_type": "code",
   "execution_count": 108,
   "metadata": {
    "colab": {
     "base_uri": "https://localhost:8080/",
     "height": 0
    },
    "id": "j7uomatOD53b",
    "outputId": "8ca6fe4f-1583-4005-cfba-0565fe008815"
   },
   "outputs": [
    {
     "name": "stdout",
     "output_type": "stream",
     "text": [
      "year              0\n",
      "month             0\n",
      "day               0\n",
      "tempHigh          0\n",
      "tempAvg           0\n",
      "tempLow           0\n",
      "DPHigh            0\n",
      "DPAvg             0\n",
      "DPLow             0\n",
      "humidityHigh      0\n",
      "humidityAvg       0\n",
      "humidityLow       0\n",
      "SLPHigh           0\n",
      "SLPAvg            0\n",
      "SLPLow            0\n",
      "visibilityHigh    0\n",
      "visibilityAvg     0\n",
      "visibilityLow     0\n",
      "windAvg           0\n",
      "Rainfall          0\n",
      "AQI               0\n",
      "dtype: int64\n"
     ]
    }
   ],
   "source": [
    "print(data.isna().sum())"
   ]
  },
  {
   "cell_type": "code",
   "execution_count": 109,
   "metadata": {
    "colab": {
     "base_uri": "https://localhost:8080/",
     "height": 1000
    },
    "id": "ck6e4oWKD_KA",
    "outputId": "12875a02-c318-4a18-fb52-b5563ddbae96"
   },
   "outputs": [
    {
     "data": {
      "text/plain": [
       "array([[<Axes: title={'center': 'year'}>,\n",
       "        <Axes: title={'center': 'month'}>,\n",
       "        <Axes: title={'center': 'day'}>,\n",
       "        <Axes: title={'center': 'tempHigh'}>,\n",
       "        <Axes: title={'center': 'tempAvg'}>],\n",
       "       [<Axes: title={'center': 'tempLow'}>,\n",
       "        <Axes: title={'center': 'DPHigh'}>,\n",
       "        <Axes: title={'center': 'DPAvg'}>,\n",
       "        <Axes: title={'center': 'DPLow'}>,\n",
       "        <Axes: title={'center': 'humidityHigh'}>],\n",
       "       [<Axes: title={'center': 'humidityAvg'}>,\n",
       "        <Axes: title={'center': 'humidityLow'}>,\n",
       "        <Axes: title={'center': 'SLPHigh'}>,\n",
       "        <Axes: title={'center': 'SLPAvg'}>,\n",
       "        <Axes: title={'center': 'SLPLow'}>],\n",
       "       [<Axes: title={'center': 'visibilityHigh'}>,\n",
       "        <Axes: title={'center': 'visibilityAvg'}>,\n",
       "        <Axes: title={'center': 'visibilityLow'}>,\n",
       "        <Axes: title={'center': 'windAvg'}>,\n",
       "        <Axes: title={'center': 'Rainfall'}>],\n",
       "       [<Axes: title={'center': 'AQI'}>, <Axes: >, <Axes: >, <Axes: >,\n",
       "        <Axes: >]], dtype=object)"
      ]
     },
     "execution_count": 109,
     "metadata": {},
     "output_type": "execute_result"
    },
    {
     "data": {
      "image/png": "[encoded data removed]",
      "text/plain": [
       "<Figure size 2000x2000 with 25 Axes>"
      ]
     },
     "metadata": {},
     "output_type": "display_data"
    }
   ],
   "source": [
    "data.hist(bins=30, figsize=(20,20), color='b')"
   ]
  },
  {
   "cell_type": "code",
   "execution_count": 110,
   "metadata": {
    "colab": {
     "base_uri": "https://localhost:8080/",
     "height": 109
    },
    "id": "nl88178PENQr",
    "outputId": "f80f3df2-6a44-47b1-fc74-7303942f148e"
   },
   "outputs": [
    {
     "data": {
      "text/html": [
       "\n",
       "  <div id=\"df-8820c5bd-b1de-4e13-8bd7-7f8321fd8315\" class=\"colab-df-container\">\n",
       "    <div>\n",
       "<style scoped>\n",
       "    .dataframe tbody tr th:only-of-type {\n",
       "        vertical-align: middle;\n",
       "    }\n",
       "\n",
       "    .dataframe tbody tr th {\n",
       "        vertical-align: top;\n",
       "    }\n",
       "\n",
       "    .dataframe thead th {\n",
       "        text-align: right;\n",
       "    }\n",
       "</style>\n",
       "<table border=\"1\" class=\"dataframe\">\n",
       "  <thead>\n",
       "    <tr style=\"text-align: right;\">\n",
       "      <th></th>\n",
       "      <th>year</th>\n",
       "      <th>month</th>\n",
       "      <th>day</th>\n",
       "      <th>tempHigh</th>\n",
       "      <th>tempAvg</th>\n",
       "      <th>tempLow</th>\n",
       "      <th>DPHigh</th>\n",
       "      <th>DPAvg</th>\n",
       "      <th>DPLow</th>\n",
       "      <th>humidityHigh</th>\n",
       "      <th>...</th>\n",
       "      <th>humidityLow</th>\n",
       "      <th>SLPHigh</th>\n",
       "      <th>SLPAvg</th>\n",
       "      <th>SLPLow</th>\n",
       "      <th>visibilityHigh</th>\n",
       "      <th>visibilityAvg</th>\n",
       "      <th>visibilityLow</th>\n",
       "      <th>windAvg</th>\n",
       "      <th>Rainfall</th>\n",
       "      <th>AQI</th>\n",
       "    </tr>\n",
       "  </thead>\n",
       "  <tbody>\n",
       "  </tbody>\n",
       "</table>\n",
       "<p>0 rows × 21 columns</p>\n",
       "</div>\n",
       "    <div class=\"colab-df-buttons\">\n",
       "\n",
       "  <div class=\"colab-df-container\">\n",
       "    <button class=\"colab-df-convert\" onclick=\"convertToInteractive('df-8820c5bd-b1de-4e13-8bd7-7f8321fd8315')\"\n",
       "            title=\"Convert this dataframe to an interactive table.\"\n",
       "            style=\"display:none;\">\n",
       "\n",
       "  <svg xmlns=\"http://www.w3.org/2000/svg\" height=\"24px\" viewBox=\"0 -960 960 960\">\n",
       "    <path d=\"M120-120v-720h720v720H120Zm60-500h600v-160H180v160Zm220 220h160v-160H400v160Zm0 220h160v-160H400v160ZM180-400h160v-160H180v160Zm440 0h160v-160H620v160ZM180-180h160v-160H180v160Zm440 0h160v-160H620v160Z\"/>\n",
       "  </svg>\n",
       "    </button>\n",
       "\n",
       "  <style>\n",
       "    .colab-df-container {\n",
       "      display:flex;\n",
       "      gap: 12px;\n",
       "    }\n",
       "\n",
       "    .colab-df-convert {\n",
       "      background-color: #E8F0FE;\n",
       "      border: none;\n",
       "      border-radius: 50%;\n",
       "      cursor: pointer;\n",
       "      display: none;\n",
       "      fill: #1967D2;\n",
       "      height: 32px;\n",
       "      padding: 0 0 0 0;\n",
       "      width: 32px;\n",
       "    }\n",
       "\n",
       "    .colab-df-convert:hover {\n",
       "      background-color: #E2EBFA;\n",
       "      box-shadow: 0px 1px 2px rgba(60, 64, 67, 0.3), 0px 1px 3px 1px rgba(60, 64, 67, 0.15);\n",
       "      fill: #174EA6;\n",
       "    }\n",
       "\n",
       "    .colab-df-buttons div {\n",
       "      margin-bottom: 4px;\n",
       "    }\n",
       "\n",
       "    [theme=dark] .colab-df-convert {\n",
       "      background-color: #3B4455;\n",
       "      fill: #D2E3FC;\n",
       "    }\n",
       "\n",
       "    [theme=dark] .colab-df-convert:hover {\n",
       "      background-color: #434B5C;\n",
       "      box-shadow: 0px 1px 3px 1px rgba(0, 0, 0, 0.15);\n",
       "      filter: drop-shadow(0px 1px 2px rgba(0, 0, 0, 0.3));\n",
       "      fill: #FFFFFF;\n",
       "    }\n",
       "  </style>\n",
       "\n",
       "    <script>\n",
       "      const buttonEl =\n",
       "        document.querySelector('#df-8820c5bd-b1de-4e13-8bd7-7f8321fd8315 button.colab-df-convert');\n",
       "      buttonEl.style.display =\n",
       "        google.colab.kernel.accessAllowed ? 'block' : 'none';\n",
       "\n",
       "      async function convertToInteractive(key) {\n",
       "        const element = document.querySelector('#df-8820c5bd-b1de-4e13-8bd7-7f8321fd8315');\n",
       "        const dataTable =\n",
       "          await google.colab.kernel.invokeFunction('convertToInteractive',\n",
       "                                                    [key], {});\n",
       "        if (!dataTable) return;\n",
       "\n",
       "        const docLinkHtml = 'Like what you see? Visit the ' +\n",
       "          '<a target=\"_blank\" href=https://colab.research.google.com/notebooks/data_table.ipynb>data table notebook</a>'\n",
       "          + ' to learn more about interactive tables.';\n",
       "        element.innerHTML = '';\n",
       "        dataTable['output_type'] = 'display_data';\n",
       "        await google.colab.output.renderOutput(dataTable, element);\n",
       "        const docLink = document.createElement('div');\n",
       "        docLink.innerHTML = docLinkHtml;\n",
       "        element.appendChild(docLink);\n",
       "      }\n",
       "    </script>\n",
       "  </div>\n",
       "\n",
       "\n",
       "<div id=\"df-40bdc281-b29a-4cec-9934-a87e5cea6aa3\">\n",
       "  <button class=\"colab-df-quickchart\" onclick=\"quickchart('df-40bdc281-b29a-4cec-9934-a87e5cea6aa3')\"\n",
       "            title=\"Suggest charts.\"\n",
       "            style=\"display:none;\">\n",
       "\n",
       "<svg xmlns=\"http://www.w3.org/2000/svg\" height=\"24px\"viewBox=\"0 0 24 24\"\n",
       "     width=\"24px\">\n",
       "    <g>\n",
       "        <path d=\"M19 3H5c-1.1 0-2 .9-2 2v14c0 1.1.9 2 2 2h14c1.1 0 2-.9 2-2V5c0-1.1-.9-2-2-2zM9 17H7v-7h2v7zm4 0h-2V7h2v10zm4 0h-2v-4h2v4z\"/>\n",
       "    </g>\n",
       "</svg>\n",
       "  </button>\n",
       "\n",
       "<style>\n",
       "  .colab-df-quickchart {\n",
       "    background-color: #E8F0FE;\n",
       "    border: none;\n",
       "    border-radius: 50%;\n",
       "    cursor: pointer;\n",
       "    display: none;\n",
       "    fill: #1967D2;\n",
       "    height: 32px;\n",
       "    padding: 0 0 0 0;\n",
       "    width: 32px;\n",
       "  }\n",
       "\n",
       "  .colab-df-quickchart:hover {\n",
       "    background-color: #E2EBFA;\n",
       "    box-shadow: 0px 1px 2px rgba(60, 64, 67, 0.3), 0px 1px 3px 1px rgba(60, 64, 67, 0.15);\n",
       "    fill: #174EA6;\n",
       "  }\n",
       "\n",
       "  [theme=dark] .colab-df-quickchart {\n",
       "    background-color: #3B4455;\n",
       "    fill: #D2E3FC;\n",
       "  }\n",
       "\n",
       "  [theme=dark] .colab-df-quickchart:hover {\n",
       "    background-color: #434B5C;\n",
       "    box-shadow: 0px 1px 3px 1px rgba(0, 0, 0, 0.15);\n",
       "    filter: drop-shadow(0px 1px 2px rgba(0, 0, 0, 0.3));\n",
       "    fill: #FFFFFF;\n",
       "  }\n",
       "</style>\n",
       "\n",
       "  <script>\n",
       "    async function quickchart(key) {\n",
       "      const charts = await google.colab.kernel.invokeFunction(\n",
       "          'suggestCharts', [key], {});\n",
       "    }\n",
       "    (() => {\n",
       "      let quickchartButtonEl =\n",
       "        document.querySelector('#df-40bdc281-b29a-4cec-9934-a87e5cea6aa3 button');\n",
       "      quickchartButtonEl.style.display =\n",
       "        google.colab.kernel.accessAllowed ? 'block' : 'none';\n",
       "    })();\n",
       "  </script>\n",
       "</div>\n",
       "    </div>\n",
       "  </div>\n"
      ],
      "text/plain": [
       "Empty DataFrame\n",
       "Columns: [year, month, day, tempHigh, tempAvg, tempLow, DPHigh, DPAvg, DPLow, humidityHigh, humidityAvg, humidityLow, SLPHigh, SLPAvg, SLPLow, visibilityHigh, visibilityAvg, visibilityLow, windAvg, Rainfall, AQI]\n",
       "Index: []\n",
       "\n",
       "[0 rows x 21 columns]"
      ]
     },
     "execution_count": 110,
     "metadata": {},
     "output_type": "execute_result"
    }
   ],
   "source": [
    "duplicate = data[data.duplicated()]\n",
    "duplicate"
   ]
  },
  {
   "cell_type": "markdown",
   "metadata": {
    "id": "sFOjwkSnEuI_"
   },
   "source": [
    "No Duplicates found"
   ]
  },
  {
   "cell_type": "code",
   "execution_count": 111,
   "metadata": {
    "colab": {
     "base_uri": "https://localhost:8080/",
     "height": 256
    },
    "id": "OkuTD_CaE1gj",
    "outputId": "8f1f8404-6821-4342-d65a-809fdeaf321f"
   },
   "outputs": [
    {
     "data": {
      "text/html": [
       "\n",
       "  <div id=\"df-1888af92-14dc-40da-a07b-c326d7b57887\" class=\"colab-df-container\">\n",
       "    <div>\n",
       "<style scoped>\n",
       "    .dataframe tbody tr th:only-of-type {\n",
       "        vertical-align: middle;\n",
       "    }\n",
       "\n",
       "    .dataframe tbody tr th {\n",
       "        vertical-align: top;\n",
       "    }\n",
       "\n",
       "    .dataframe thead th {\n",
       "        text-align: right;\n",
       "    }\n",
       "</style>\n",
       "<table border=\"1\" class=\"dataframe\">\n",
       "  <thead>\n",
       "    <tr style=\"text-align: right;\">\n",
       "      <th></th>\n",
       "      <th>year</th>\n",
       "      <th>month</th>\n",
       "      <th>day</th>\n",
       "      <th>tempHigh</th>\n",
       "      <th>tempAvg</th>\n",
       "      <th>tempLow</th>\n",
       "      <th>DPHigh</th>\n",
       "      <th>DPAvg</th>\n",
       "      <th>DPLow</th>\n",
       "      <th>humidityHigh</th>\n",
       "      <th>...</th>\n",
       "      <th>humidityLow</th>\n",
       "      <th>SLPHigh</th>\n",
       "      <th>SLPAvg</th>\n",
       "      <th>SLPLow</th>\n",
       "      <th>visibilityHigh</th>\n",
       "      <th>visibilityAvg</th>\n",
       "      <th>visibilityLow</th>\n",
       "      <th>windAvg</th>\n",
       "      <th>Rainfall</th>\n",
       "      <th>AQI</th>\n",
       "    </tr>\n",
       "  </thead>\n",
       "  <tbody>\n",
       "    <tr>\n",
       "      <th>0</th>\n",
       "      <td>2014</td>\n",
       "      <td>1</td>\n",
       "      <td>3</td>\n",
       "      <td>26</td>\n",
       "      <td>21</td>\n",
       "      <td>15</td>\n",
       "      <td>15</td>\n",
       "      <td>14</td>\n",
       "      <td>12</td>\n",
       "      <td>83</td>\n",
       "      <td>...</td>\n",
       "      <td>42</td>\n",
       "      <td>1017</td>\n",
       "      <td>1015</td>\n",
       "      <td>1013</td>\n",
       "      <td>4</td>\n",
       "      <td>4</td>\n",
       "      <td>3</td>\n",
       "      <td>10</td>\n",
       "      <td>0.0</td>\n",
       "      <td>182.0</td>\n",
       "    </tr>\n",
       "    <tr>\n",
       "      <th>1</th>\n",
       "      <td>2014</td>\n",
       "      <td>1</td>\n",
       "      <td>4</td>\n",
       "      <td>26</td>\n",
       "      <td>20</td>\n",
       "      <td>15</td>\n",
       "      <td>16</td>\n",
       "      <td>14</td>\n",
       "      <td>12</td>\n",
       "      <td>83</td>\n",
       "      <td>...</td>\n",
       "      <td>46</td>\n",
       "      <td>1016</td>\n",
       "      <td>1013</td>\n",
       "      <td>1011</td>\n",
       "      <td>4</td>\n",
       "      <td>3</td>\n",
       "      <td>2</td>\n",
       "      <td>16</td>\n",
       "      <td>0.0</td>\n",
       "      <td>131.0</td>\n",
       "    </tr>\n",
       "    <tr>\n",
       "      <th>2</th>\n",
       "      <td>2014</td>\n",
       "      <td>1</td>\n",
       "      <td>5</td>\n",
       "      <td>24</td>\n",
       "      <td>19</td>\n",
       "      <td>13</td>\n",
       "      <td>15</td>\n",
       "      <td>14</td>\n",
       "      <td>13</td>\n",
       "      <td>88</td>\n",
       "      <td>...</td>\n",
       "      <td>50</td>\n",
       "      <td>1014</td>\n",
       "      <td>1011</td>\n",
       "      <td>1010</td>\n",
       "      <td>3</td>\n",
       "      <td>2</td>\n",
       "      <td>2</td>\n",
       "      <td>10</td>\n",
       "      <td>0.0</td>\n",
       "      <td>140.0</td>\n",
       "    </tr>\n",
       "    <tr>\n",
       "      <th>3</th>\n",
       "      <td>2014</td>\n",
       "      <td>1</td>\n",
       "      <td>6</td>\n",
       "      <td>24</td>\n",
       "      <td>18</td>\n",
       "      <td>13</td>\n",
       "      <td>15</td>\n",
       "      <td>13</td>\n",
       "      <td>11</td>\n",
       "      <td>94</td>\n",
       "      <td>...</td>\n",
       "      <td>44</td>\n",
       "      <td>1014</td>\n",
       "      <td>1013</td>\n",
       "      <td>1011</td>\n",
       "      <td>4</td>\n",
       "      <td>3</td>\n",
       "      <td>1</td>\n",
       "      <td>8</td>\n",
       "      <td>0.0</td>\n",
       "      <td>99.0</td>\n",
       "    </tr>\n",
       "    <tr>\n",
       "      <th>4</th>\n",
       "      <td>2014</td>\n",
       "      <td>1</td>\n",
       "      <td>7</td>\n",
       "      <td>26</td>\n",
       "      <td>20</td>\n",
       "      <td>14</td>\n",
       "      <td>17</td>\n",
       "      <td>13</td>\n",
       "      <td>11</td>\n",
       "      <td>91</td>\n",
       "      <td>...</td>\n",
       "      <td>29</td>\n",
       "      <td>1017</td>\n",
       "      <td>1014</td>\n",
       "      <td>1013</td>\n",
       "      <td>4</td>\n",
       "      <td>3</td>\n",
       "      <td>1</td>\n",
       "      <td>8</td>\n",
       "      <td>0.0</td>\n",
       "      <td>87.0</td>\n",
       "    </tr>\n",
       "  </tbody>\n",
       "</table>\n",
       "<p>5 rows × 21 columns</p>\n",
       "</div>\n",
       "    <div class=\"colab-df-buttons\">\n",
       "\n",
       "  <div class=\"colab-df-container\">\n",
       "    <button class=\"colab-df-convert\" onclick=\"convertToInteractive('df-1888af92-14dc-40da-a07b-c326d7b57887')\"\n",
       "            title=\"Convert this dataframe to an interactive table.\"\n",
       "            style=\"display:none;\">\n",
       "\n",
       "  <svg xmlns=\"http://www.w3.org/2000/svg\" height=\"24px\" viewBox=\"0 -960 960 960\">\n",
       "    <path d=\"M120-120v-720h720v720H120Zm60-500h600v-160H180v160Zm220 220h160v-160H400v160Zm0 220h160v-160H400v160ZM180-400h160v-160H180v160Zm440 0h160v-160H620v160ZM180-180h160v-160H180v160Zm440 0h160v-160H620v160Z\"/>\n",
       "  </svg>\n",
       "    </button>\n",
       "\n",
       "  <style>\n",
       "    .colab-df-container {\n",
       "      display:flex;\n",
       "      gap: 12px;\n",
       "    }\n",
       "\n",
       "    .colab-df-convert {\n",
       "      background-color: #E8F0FE;\n",
       "      border: none;\n",
       "      border-radius: 50%;\n",
       "      cursor: pointer;\n",
       "      display: none;\n",
       "      fill: #1967D2;\n",
       "      height: 32px;\n",
       "      padding: 0 0 0 0;\n",
       "      width: 32px;\n",
       "    }\n",
       "\n",
       "    .colab-df-convert:hover {\n",
       "      background-color: #E2EBFA;\n",
       "      box-shadow: 0px 1px 2px rgba(60, 64, 67, 0.3), 0px 1px 3px 1px rgba(60, 64, 67, 0.15);\n",
       "      fill: #174EA6;\n",
       "    }\n",
       "\n",
       "    .colab-df-buttons div {\n",
       "      margin-bottom: 4px;\n",
       "    }\n",
       "\n",
       "    [theme=dark] .colab-df-convert {\n",
       "      background-color: #3B4455;\n",
       "      fill: #D2E3FC;\n",
       "    }\n",
       "\n",
       "    [theme=dark] .colab-df-convert:hover {\n",
       "      background-color: #434B5C;\n",
       "      box-shadow: 0px 1px 3px 1px rgba(0, 0, 0, 0.15);\n",
       "      filter: drop-shadow(0px 1px 2px rgba(0, 0, 0, 0.3));\n",
       "      fill: #FFFFFF;\n",
       "    }\n",
       "  </style>\n",
       "\n",
       "    <script>\n",
       "      const buttonEl =\n",
       "        document.querySelector('#df-1888af92-14dc-40da-a07b-c326d7b57887 button.colab-df-convert');\n",
       "      buttonEl.style.display =\n",
       "        google.colab.kernel.accessAllowed ? 'block' : 'none';\n",
       "\n",
       "      async function convertToInteractive(key) {\n",
       "        const element = document.querySelector('#df-1888af92-14dc-40da-a07b-c326d7b57887');\n",
       "        const dataTable =\n",
       "          await google.colab.kernel.invokeFunction('convertToInteractive',\n",
       "                                                    [key], {});\n",
       "        if (!dataTable) return;\n",
       "\n",
       "        const docLinkHtml = 'Like what you see? Visit the ' +\n",
       "          '<a target=\"_blank\" href=https://colab.research.google.com/notebooks/data_table.ipynb>data table notebook</a>'\n",
       "          + ' to learn more about interactive tables.';\n",
       "        element.innerHTML = '';\n",
       "        dataTable['output_type'] = 'display_data';\n",
       "        await google.colab.output.renderOutput(dataTable, element);\n",
       "        const docLink = document.createElement('div');\n",
       "        docLink.innerHTML = docLinkHtml;\n",
       "        element.appendChild(docLink);\n",
       "      }\n",
       "    </script>\n",
       "  </div>\n",
       "\n",
       "\n",
       "<div id=\"df-8130c1ef-3775-4987-bdfb-e3174ffe2be4\">\n",
       "  <button class=\"colab-df-quickchart\" onclick=\"quickchart('df-8130c1ef-3775-4987-bdfb-e3174ffe2be4')\"\n",
       "            title=\"Suggest charts.\"\n",
       "            style=\"display:none;\">\n",
       "\n",
       "<svg xmlns=\"http://www.w3.org/2000/svg\" height=\"24px\"viewBox=\"0 0 24 24\"\n",
       "     width=\"24px\">\n",
       "    <g>\n",
       "        <path d=\"M19 3H5c-1.1 0-2 .9-2 2v14c0 1.1.9 2 2 2h14c1.1 0 2-.9 2-2V5c0-1.1-.9-2-2-2zM9 17H7v-7h2v7zm4 0h-2V7h2v10zm4 0h-2v-4h2v4z\"/>\n",
       "    </g>\n",
       "</svg>\n",
       "  </button>\n",
       "\n",
       "<style>\n",
       "  .colab-df-quickchart {\n",
       "    background-color: #E8F0FE;\n",
       "    border: none;\n",
       "    border-radius: 50%;\n",
       "    cursor: pointer;\n",
       "    display: none;\n",
       "    fill: #1967D2;\n",
       "    height: 32px;\n",
       "    padding: 0 0 0 0;\n",
       "    width: 32px;\n",
       "  }\n",
       "\n",
       "  .colab-df-quickchart:hover {\n",
       "    background-color: #E2EBFA;\n",
       "    box-shadow: 0px 1px 2px rgba(60, 64, 67, 0.3), 0px 1px 3px 1px rgba(60, 64, 67, 0.15);\n",
       "    fill: #174EA6;\n",
       "  }\n",
       "\n",
       "  [theme=dark] .colab-df-quickchart {\n",
       "    background-color: #3B4455;\n",
       "    fill: #D2E3FC;\n",
       "  }\n",
       "\n",
       "  [theme=dark] .colab-df-quickchart:hover {\n",
       "    background-color: #434B5C;\n",
       "    box-shadow: 0px 1px 3px 1px rgba(0, 0, 0, 0.15);\n",
       "    filter: drop-shadow(0px 1px 2px rgba(0, 0, 0, 0.3));\n",
       "    fill: #FFFFFF;\n",
       "  }\n",
       "</style>\n",
       "\n",
       "  <script>\n",
       "    async function quickchart(key) {\n",
       "      const charts = await google.colab.kernel.invokeFunction(\n",
       "          'suggestCharts', [key], {});\n",
       "    }\n",
       "    (() => {\n",
       "      let quickchartButtonEl =\n",
       "        document.querySelector('#df-8130c1ef-3775-4987-bdfb-e3174ffe2be4 button');\n",
       "      quickchartButtonEl.style.display =\n",
       "        google.colab.kernel.accessAllowed ? 'block' : 'none';\n",
       "    })();\n",
       "  </script>\n",
       "</div>\n",
       "    </div>\n",
       "  </div>\n"
      ],
      "text/plain": [
       "   year  month  day  tempHigh  tempAvg  tempLow  DPHigh  DPAvg  DPLow  \\\n",
       "0  2014      1    3        26       21       15      15     14     12   \n",
       "1  2014      1    4        26       20       15      16     14     12   \n",
       "2  2014      1    5        24       19       13      15     14     13   \n",
       "3  2014      1    6        24       18       13      15     13     11   \n",
       "4  2014      1    7        26       20       14      17     13     11   \n",
       "\n",
       "   humidityHigh  ...  humidityLow  SLPHigh  SLPAvg  SLPLow  visibilityHigh  \\\n",
       "0            83  ...           42     1017    1015    1013               4   \n",
       "1            83  ...           46     1016    1013    1011               4   \n",
       "2            88  ...           50     1014    1011    1010               3   \n",
       "3            94  ...           44     1014    1013    1011               4   \n",
       "4            91  ...           29     1017    1014    1013               4   \n",
       "\n",
       "   visibilityAvg  visibilityLow  windAvg  Rainfall    AQI  \n",
       "0              4              3       10       0.0  182.0  \n",
       "1              3              2       16       0.0  131.0  \n",
       "2              2              2       10       0.0  140.0  \n",
       "3              3              1        8       0.0   99.0  \n",
       "4              3              1        8       0.0   87.0  \n",
       "\n",
       "[5 rows x 21 columns]"
      ]
     },
     "execution_count": 111,
     "metadata": {},
     "output_type": "execute_result"
    }
   ],
   "source": [
    "data.head()"
   ]
  },
  {
   "cell_type": "code",
   "execution_count": 112,
   "metadata": {
    "colab": {
     "base_uri": "https://localhost:8080/",
     "height": 0
    },
    "id": "Sfj18lut5fxI",
    "outputId": "c8271dcd-95fd-40cd-d58e-074169ef257e"
   },
   "outputs": [
    {
     "data": {
      "text/plain": [
       "2.716729411764706"
      ]
     },
     "execution_count": 112,
     "metadata": {},
     "output_type": "execute_result"
    }
   ],
   "source": [
    "data.Rainfall.mean()"
   ]
  },
  {
   "cell_type": "markdown",
   "metadata": {
    "id": "pIORDdrHdPn2"
   },
   "source": [
    "###Feature Engineering and Pre-processing"
   ]
  },
  {
   "cell_type": "markdown",
   "metadata": {
    "id": "a10SaCDAdmhw"
   },
   "source": [
    "Here we are creating a column \"Rainy\" derived from the oolumn Rainfall\n",
    "If Rainfall is there even if a minimum amount(>0), \"Rainy = 1\" else 0.\n",
    "\n",
    "**Traget Attribute** - The New column \"Rainy\" (We will try to predict whetehr it will rain in the day or not.)\n",
    "\n"
   ]
  },
  {
   "cell_type": "code",
   "execution_count": 113,
   "metadata": {
    "colab": {
     "base_uri": "https://localhost:8080/",
     "height": 0
    },
    "id": "EQnrfrBu9P5a",
    "outputId": "479a4c12-9ab8-4715-9c7b-80d5234e6d38"
   },
   "outputs": [
    {
     "name": "stdout",
     "output_type": "stream",
     "text": [
      "      Rainfall Rainy\n",
      "0          0.0     0\n",
      "1          0.0     0\n",
      "2          0.0     0\n",
      "3          0.0     0\n",
      "4          0.0     0\n",
      "...        ...   ...\n",
      "1270       0.0     0\n",
      "1271       0.0     0\n",
      "1272       0.0     0\n",
      "1273       0.0     0\n",
      "1274       0.0     0\n",
      "\n",
      "[1275 rows x 2 columns]\n"
     ]
    }
   ],
   "source": [
    "from pandas import DataFrame\n",
    "\n",
    "df = DataFrame(data, columns =['Rainfall'])\n",
    "total_data = DataFrame(data)\n",
    "\n",
    "df['Rainy'] = df['Rainfall'].apply(lambda x: '0' if x == 0 else '1')\n",
    "\n",
    "print (df)"
   ]
  },
  {
   "cell_type": "code",
   "execution_count": 114,
   "metadata": {
    "colab": {
     "base_uri": "https://localhost:8080/",
     "height": 1931
    },
    "id": "Qc6bScmA0VBl",
    "outputId": "61f942d8-58e8-4636-c992-cc9080665766"
   },
   "outputs": [
    {
     "data": {
      "text/html": [
       "\n",
       "  <div id=\"df-8806358e-bd82-4836-a449-20f4adeb8df8\" class=\"colab-df-container\">\n",
       "    <div>\n",
       "<style scoped>\n",
       "    .dataframe tbody tr th:only-of-type {\n",
       "        vertical-align: middle;\n",
       "    }\n",
       "\n",
       "    .dataframe tbody tr th {\n",
       "        vertical-align: top;\n",
       "    }\n",
       "\n",
       "    .dataframe thead th {\n",
       "        text-align: right;\n",
       "    }\n",
       "</style>\n",
       "<table border=\"1\" class=\"dataframe\">\n",
       "  <thead>\n",
       "    <tr style=\"text-align: right;\">\n",
       "      <th></th>\n",
       "      <th>Rainfall</th>\n",
       "      <th>Rainy</th>\n",
       "    </tr>\n",
       "  </thead>\n",
       "  <tbody>\n",
       "    <tr>\n",
       "      <th>1215</th>\n",
       "      <td>0.00</td>\n",
       "      <td>0</td>\n",
       "    </tr>\n",
       "    <tr>\n",
       "      <th>1216</th>\n",
       "      <td>0.25</td>\n",
       "      <td>1</td>\n",
       "    </tr>\n",
       "    <tr>\n",
       "      <th>1217</th>\n",
       "      <td>0.00</td>\n",
       "      <td>0</td>\n",
       "    </tr>\n",
       "    <tr>\n",
       "      <th>1218</th>\n",
       "      <td>0.00</td>\n",
       "      <td>0</td>\n",
       "    </tr>\n",
       "    <tr>\n",
       "      <th>1219</th>\n",
       "      <td>0.00</td>\n",
       "      <td>0</td>\n",
       "    </tr>\n",
       "    <tr>\n",
       "      <th>1220</th>\n",
       "      <td>0.00</td>\n",
       "      <td>0</td>\n",
       "    </tr>\n",
       "    <tr>\n",
       "      <th>1221</th>\n",
       "      <td>0.00</td>\n",
       "      <td>0</td>\n",
       "    </tr>\n",
       "    <tr>\n",
       "      <th>1222</th>\n",
       "      <td>0.00</td>\n",
       "      <td>0</td>\n",
       "    </tr>\n",
       "    <tr>\n",
       "      <th>1223</th>\n",
       "      <td>0.00</td>\n",
       "      <td>0</td>\n",
       "    </tr>\n",
       "    <tr>\n",
       "      <th>1224</th>\n",
       "      <td>0.00</td>\n",
       "      <td>0</td>\n",
       "    </tr>\n",
       "    <tr>\n",
       "      <th>1225</th>\n",
       "      <td>0.00</td>\n",
       "      <td>0</td>\n",
       "    </tr>\n",
       "    <tr>\n",
       "      <th>1226</th>\n",
       "      <td>0.00</td>\n",
       "      <td>0</td>\n",
       "    </tr>\n",
       "    <tr>\n",
       "      <th>1227</th>\n",
       "      <td>0.00</td>\n",
       "      <td>0</td>\n",
       "    </tr>\n",
       "    <tr>\n",
       "      <th>1228</th>\n",
       "      <td>0.00</td>\n",
       "      <td>0</td>\n",
       "    </tr>\n",
       "    <tr>\n",
       "      <th>1229</th>\n",
       "      <td>14.99</td>\n",
       "      <td>1</td>\n",
       "    </tr>\n",
       "    <tr>\n",
       "      <th>1230</th>\n",
       "      <td>14.99</td>\n",
       "      <td>1</td>\n",
       "    </tr>\n",
       "    <tr>\n",
       "      <th>1231</th>\n",
       "      <td>0.25</td>\n",
       "      <td>1</td>\n",
       "    </tr>\n",
       "    <tr>\n",
       "      <th>1232</th>\n",
       "      <td>0.00</td>\n",
       "      <td>0</td>\n",
       "    </tr>\n",
       "    <tr>\n",
       "      <th>1233</th>\n",
       "      <td>0.00</td>\n",
       "      <td>0</td>\n",
       "    </tr>\n",
       "    <tr>\n",
       "      <th>1234</th>\n",
       "      <td>0.00</td>\n",
       "      <td>0</td>\n",
       "    </tr>\n",
       "    <tr>\n",
       "      <th>1235</th>\n",
       "      <td>0.00</td>\n",
       "      <td>0</td>\n",
       "    </tr>\n",
       "    <tr>\n",
       "      <th>1236</th>\n",
       "      <td>0.00</td>\n",
       "      <td>0</td>\n",
       "    </tr>\n",
       "    <tr>\n",
       "      <th>1237</th>\n",
       "      <td>0.00</td>\n",
       "      <td>0</td>\n",
       "    </tr>\n",
       "    <tr>\n",
       "      <th>1238</th>\n",
       "      <td>0.00</td>\n",
       "      <td>0</td>\n",
       "    </tr>\n",
       "    <tr>\n",
       "      <th>1239</th>\n",
       "      <td>0.00</td>\n",
       "      <td>0</td>\n",
       "    </tr>\n",
       "    <tr>\n",
       "      <th>1240</th>\n",
       "      <td>0.00</td>\n",
       "      <td>0</td>\n",
       "    </tr>\n",
       "    <tr>\n",
       "      <th>1241</th>\n",
       "      <td>0.00</td>\n",
       "      <td>0</td>\n",
       "    </tr>\n",
       "    <tr>\n",
       "      <th>1242</th>\n",
       "      <td>0.00</td>\n",
       "      <td>0</td>\n",
       "    </tr>\n",
       "    <tr>\n",
       "      <th>1243</th>\n",
       "      <td>0.00</td>\n",
       "      <td>0</td>\n",
       "    </tr>\n",
       "    <tr>\n",
       "      <th>1244</th>\n",
       "      <td>0.00</td>\n",
       "      <td>0</td>\n",
       "    </tr>\n",
       "    <tr>\n",
       "      <th>1245</th>\n",
       "      <td>0.00</td>\n",
       "      <td>0</td>\n",
       "    </tr>\n",
       "    <tr>\n",
       "      <th>1246</th>\n",
       "      <td>0.00</td>\n",
       "      <td>0</td>\n",
       "    </tr>\n",
       "    <tr>\n",
       "      <th>1247</th>\n",
       "      <td>0.00</td>\n",
       "      <td>0</td>\n",
       "    </tr>\n",
       "    <tr>\n",
       "      <th>1248</th>\n",
       "      <td>0.00</td>\n",
       "      <td>0</td>\n",
       "    </tr>\n",
       "    <tr>\n",
       "      <th>1249</th>\n",
       "      <td>0.00</td>\n",
       "      <td>0</td>\n",
       "    </tr>\n",
       "    <tr>\n",
       "      <th>1250</th>\n",
       "      <td>0.00</td>\n",
       "      <td>0</td>\n",
       "    </tr>\n",
       "    <tr>\n",
       "      <th>1251</th>\n",
       "      <td>1.02</td>\n",
       "      <td>1</td>\n",
       "    </tr>\n",
       "    <tr>\n",
       "      <th>1252</th>\n",
       "      <td>1.02</td>\n",
       "      <td>1</td>\n",
       "    </tr>\n",
       "    <tr>\n",
       "      <th>1253</th>\n",
       "      <td>0.51</td>\n",
       "      <td>1</td>\n",
       "    </tr>\n",
       "    <tr>\n",
       "      <th>1254</th>\n",
       "      <td>0.00</td>\n",
       "      <td>0</td>\n",
       "    </tr>\n",
       "    <tr>\n",
       "      <th>1255</th>\n",
       "      <td>0.00</td>\n",
       "      <td>0</td>\n",
       "    </tr>\n",
       "    <tr>\n",
       "      <th>1256</th>\n",
       "      <td>0.00</td>\n",
       "      <td>0</td>\n",
       "    </tr>\n",
       "    <tr>\n",
       "      <th>1257</th>\n",
       "      <td>0.00</td>\n",
       "      <td>0</td>\n",
       "    </tr>\n",
       "    <tr>\n",
       "      <th>1258</th>\n",
       "      <td>0.00</td>\n",
       "      <td>0</td>\n",
       "    </tr>\n",
       "    <tr>\n",
       "      <th>1259</th>\n",
       "      <td>0.00</td>\n",
       "      <td>0</td>\n",
       "    </tr>\n",
       "    <tr>\n",
       "      <th>1260</th>\n",
       "      <td>0.00</td>\n",
       "      <td>0</td>\n",
       "    </tr>\n",
       "    <tr>\n",
       "      <th>1261</th>\n",
       "      <td>0.00</td>\n",
       "      <td>0</td>\n",
       "    </tr>\n",
       "    <tr>\n",
       "      <th>1262</th>\n",
       "      <td>0.00</td>\n",
       "      <td>0</td>\n",
       "    </tr>\n",
       "    <tr>\n",
       "      <th>1263</th>\n",
       "      <td>0.00</td>\n",
       "      <td>0</td>\n",
       "    </tr>\n",
       "    <tr>\n",
       "      <th>1264</th>\n",
       "      <td>0.00</td>\n",
       "      <td>0</td>\n",
       "    </tr>\n",
       "    <tr>\n",
       "      <th>1265</th>\n",
       "      <td>0.00</td>\n",
       "      <td>0</td>\n",
       "    </tr>\n",
       "    <tr>\n",
       "      <th>1266</th>\n",
       "      <td>0.00</td>\n",
       "      <td>0</td>\n",
       "    </tr>\n",
       "    <tr>\n",
       "      <th>1267</th>\n",
       "      <td>0.00</td>\n",
       "      <td>0</td>\n",
       "    </tr>\n",
       "    <tr>\n",
       "      <th>1268</th>\n",
       "      <td>0.00</td>\n",
       "      <td>0</td>\n",
       "    </tr>\n",
       "    <tr>\n",
       "      <th>1269</th>\n",
       "      <td>0.00</td>\n",
       "      <td>0</td>\n",
       "    </tr>\n",
       "    <tr>\n",
       "      <th>1270</th>\n",
       "      <td>0.00</td>\n",
       "      <td>0</td>\n",
       "    </tr>\n",
       "    <tr>\n",
       "      <th>1271</th>\n",
       "      <td>0.00</td>\n",
       "      <td>0</td>\n",
       "    </tr>\n",
       "    <tr>\n",
       "      <th>1272</th>\n",
       "      <td>0.00</td>\n",
       "      <td>0</td>\n",
       "    </tr>\n",
       "    <tr>\n",
       "      <th>1273</th>\n",
       "      <td>0.00</td>\n",
       "      <td>0</td>\n",
       "    </tr>\n",
       "    <tr>\n",
       "      <th>1274</th>\n",
       "      <td>0.00</td>\n",
       "      <td>0</td>\n",
       "    </tr>\n",
       "  </tbody>\n",
       "</table>\n",
       "</div>\n",
       "    <div class=\"colab-df-buttons\">\n",
       "\n",
       "  <div class=\"colab-df-container\">\n",
       "    <button class=\"colab-df-convert\" onclick=\"convertToInteractive('df-8806358e-bd82-4836-a449-20f4adeb8df8')\"\n",
       "            title=\"Convert this dataframe to an interactive table.\"\n",
       "            style=\"display:none;\">\n",
       "\n",
       "  <svg xmlns=\"http://www.w3.org/2000/svg\" height=\"24px\" viewBox=\"0 -960 960 960\">\n",
       "    <path d=\"M120-120v-720h720v720H120Zm60-500h600v-160H180v160Zm220 220h160v-160H400v160Zm0 220h160v-160H400v160ZM180-400h160v-160H180v160Zm440 0h160v-160H620v160ZM180-180h160v-160H180v160Zm440 0h160v-160H620v160Z\"/>\n",
       "  </svg>\n",
       "    </button>\n",
       "\n",
       "  <style>\n",
       "    .colab-df-container {\n",
       "      display:flex;\n",
       "      gap: 12px;\n",
       "    }\n",
       "\n",
       "    .colab-df-convert {\n",
       "      background-color: #E8F0FE;\n",
       "      border: none;\n",
       "      border-radius: 50%;\n",
       "      cursor: pointer;\n",
       "      display: none;\n",
       "      fill: #1967D2;\n",
       "      height: 32px;\n",
       "      padding: 0 0 0 0;\n",
       "      width: 32px;\n",
       "    }\n",
       "\n",
       "    .colab-df-convert:hover {\n",
       "      background-color: #E2EBFA;\n",
       "      box-shadow: 0px 1px 2px rgba(60, 64, 67, 0.3), 0px 1px 3px 1px rgba(60, 64, 67, 0.15);\n",
       "      fill: #174EA6;\n",
       "    }\n",
       "\n",
       "    .colab-df-buttons div {\n",
       "      margin-bottom: 4px;\n",
       "    }\n",
       "\n",
       "    [theme=dark] .colab-df-convert {\n",
       "      background-color: #3B4455;\n",
       "      fill: #D2E3FC;\n",
       "    }\n",
       "\n",
       "    [theme=dark] .colab-df-convert:hover {\n",
       "      background-color: #434B5C;\n",
       "      box-shadow: 0px 1px 3px 1px rgba(0, 0, 0, 0.15);\n",
       "      filter: drop-shadow(0px 1px 2px rgba(0, 0, 0, 0.3));\n",
       "      fill: #FFFFFF;\n",
       "    }\n",
       "  </style>\n",
       "\n",
       "    <script>\n",
       "      const buttonEl =\n",
       "        document.querySelector('#df-8806358e-bd82-4836-a449-20f4adeb8df8 button.colab-df-convert');\n",
       "      buttonEl.style.display =\n",
       "        google.colab.kernel.accessAllowed ? 'block' : 'none';\n",
       "\n",
       "      async function convertToInteractive(key) {\n",
       "        const element = document.querySelector('#df-8806358e-bd82-4836-a449-20f4adeb8df8');\n",
       "        const dataTable =\n",
       "          await google.colab.kernel.invokeFunction('convertToInteractive',\n",
       "                                                    [key], {});\n",
       "        if (!dataTable) return;\n",
       "\n",
       "        const docLinkHtml = 'Like what you see? Visit the ' +\n",
       "          '<a target=\"_blank\" href=https://colab.research.google.com/notebooks/data_table.ipynb>data table notebook</a>'\n",
       "          + ' to learn more about interactive tables.';\n",
       "        element.innerHTML = '';\n",
       "        dataTable['output_type'] = 'display_data';\n",
       "        await google.colab.output.renderOutput(dataTable, element);\n",
       "        const docLink = document.createElement('div');\n",
       "        docLink.innerHTML = docLinkHtml;\n",
       "        element.appendChild(docLink);\n",
       "      }\n",
       "    </script>\n",
       "  </div>\n",
       "\n",
       "\n",
       "<div id=\"df-c6d93f04-0c39-4853-b2fd-1976d470d6c9\">\n",
       "  <button class=\"colab-df-quickchart\" onclick=\"quickchart('df-c6d93f04-0c39-4853-b2fd-1976d470d6c9')\"\n",
       "            title=\"Suggest charts.\"\n",
       "            style=\"display:none;\">\n",
       "\n",
       "<svg xmlns=\"http://www.w3.org/2000/svg\" height=\"24px\"viewBox=\"0 0 24 24\"\n",
       "     width=\"24px\">\n",
       "    <g>\n",
       "        <path d=\"M19 3H5c-1.1 0-2 .9-2 2v14c0 1.1.9 2 2 2h14c1.1 0 2-.9 2-2V5c0-1.1-.9-2-2-2zM9 17H7v-7h2v7zm4 0h-2V7h2v10zm4 0h-2v-4h2v4z\"/>\n",
       "    </g>\n",
       "</svg>\n",
       "  </button>\n",
       "\n",
       "<style>\n",
       "  .colab-df-quickchart {\n",
       "    background-color: #E8F0FE;\n",
       "    border: none;\n",
       "    border-radius: 50%;\n",
       "    cursor: pointer;\n",
       "    display: none;\n",
       "    fill: #1967D2;\n",
       "    height: 32px;\n",
       "    padding: 0 0 0 0;\n",
       "    width: 32px;\n",
       "  }\n",
       "\n",
       "  .colab-df-quickchart:hover {\n",
       "    background-color: #E2EBFA;\n",
       "    box-shadow: 0px 1px 2px rgba(60, 64, 67, 0.3), 0px 1px 3px 1px rgba(60, 64, 67, 0.15);\n",
       "    fill: #174EA6;\n",
       "  }\n",
       "\n",
       "  [theme=dark] .colab-df-quickchart {\n",
       "    background-color: #3B4455;\n",
       "    fill: #D2E3FC;\n",
       "  }\n",
       "\n",
       "  [theme=dark] .colab-df-quickchart:hover {\n",
       "    background-color: #434B5C;\n",
       "    box-shadow: 0px 1px 3px 1px rgba(0, 0, 0, 0.15);\n",
       "    filter: drop-shadow(0px 1px 2px rgba(0, 0, 0, 0.3));\n",
       "    fill: #FFFFFF;\n",
       "  }\n",
       "</style>\n",
       "\n",
       "  <script>\n",
       "    async function quickchart(key) {\n",
       "      const charts = await google.colab.kernel.invokeFunction(\n",
       "          'suggestCharts', [key], {});\n",
       "    }\n",
       "    (() => {\n",
       "      let quickchartButtonEl =\n",
       "        document.querySelector('#df-c6d93f04-0c39-4853-b2fd-1976d470d6c9 button');\n",
       "      quickchartButtonEl.style.display =\n",
       "        google.colab.kernel.accessAllowed ? 'block' : 'none';\n",
       "    })();\n",
       "  </script>\n",
       "</div>\n",
       "    </div>\n",
       "  </div>\n"
      ],
      "text/plain": [
       "      Rainfall Rainy\n",
       "1215      0.00     0\n",
       "1216      0.25     1\n",
       "1217      0.00     0\n",
       "1218      0.00     0\n",
       "1219      0.00     0\n",
       "1220      0.00     0\n",
       "1221      0.00     0\n",
       "1222      0.00     0\n",
       "1223      0.00     0\n",
       "1224      0.00     0\n",
       "1225      0.00     0\n",
       "1226      0.00     0\n",
       "1227      0.00     0\n",
       "1228      0.00     0\n",
       "1229     14.99     1\n",
       "1230     14.99     1\n",
       "1231      0.25     1\n",
       "1232      0.00     0\n",
       "1233      0.00     0\n",
       "1234      0.00     0\n",
       "1235      0.00     0\n",
       "1236      0.00     0\n",
       "1237      0.00     0\n",
       "1238      0.00     0\n",
       "1239      0.00     0\n",
       "1240      0.00     0\n",
       "1241      0.00     0\n",
       "1242      0.00     0\n",
       "1243      0.00     0\n",
       "1244      0.00     0\n",
       "1245      0.00     0\n",
       "1246      0.00     0\n",
       "1247      0.00     0\n",
       "1248      0.00     0\n",
       "1249      0.00     0\n",
       "1250      0.00     0\n",
       "1251      1.02     1\n",
       "1252      1.02     1\n",
       "1253      0.51     1\n",
       "1254      0.00     0\n",
       "1255      0.00     0\n",
       "1256      0.00     0\n",
       "1257      0.00     0\n",
       "1258      0.00     0\n",
       "1259      0.00     0\n",
       "1260      0.00     0\n",
       "1261      0.00     0\n",
       "1262      0.00     0\n",
       "1263      0.00     0\n",
       "1264      0.00     0\n",
       "1265      0.00     0\n",
       "1266      0.00     0\n",
       "1267      0.00     0\n",
       "1268      0.00     0\n",
       "1269      0.00     0\n",
       "1270      0.00     0\n",
       "1271      0.00     0\n",
       "1272      0.00     0\n",
       "1273      0.00     0\n",
       "1274      0.00     0"
      ]
     },
     "execution_count": 114,
     "metadata": {},
     "output_type": "execute_result"
    }
   ],
   "source": [
    "df.tail(60)"
   ]
  },
  {
   "cell_type": "code",
   "execution_count": 115,
   "metadata": {
    "colab": {
     "base_uri": "https://localhost:8080/",
     "height": 206
    },
    "id": "k_etQVUw93eO",
    "outputId": "e4a69e6a-56d9-4212-f647-b2e3bf79ba35"
   },
   "outputs": [
    {
     "data": {
      "text/html": [
       "\n",
       "  <div id=\"df-a3c76d56-c8af-409a-87de-9b2afa69376e\" class=\"colab-df-container\">\n",
       "    <div>\n",
       "<style scoped>\n",
       "    .dataframe tbody tr th:only-of-type {\n",
       "        vertical-align: middle;\n",
       "    }\n",
       "\n",
       "    .dataframe tbody tr th {\n",
       "        vertical-align: top;\n",
       "    }\n",
       "\n",
       "    .dataframe thead th {\n",
       "        text-align: right;\n",
       "    }\n",
       "</style>\n",
       "<table border=\"1\" class=\"dataframe\">\n",
       "  <thead>\n",
       "    <tr style=\"text-align: right;\">\n",
       "      <th></th>\n",
       "      <th>Rainfall</th>\n",
       "      <th>Rainy</th>\n",
       "    </tr>\n",
       "  </thead>\n",
       "  <tbody>\n",
       "    <tr>\n",
       "      <th>1270</th>\n",
       "      <td>0.0</td>\n",
       "      <td>0</td>\n",
       "    </tr>\n",
       "    <tr>\n",
       "      <th>1271</th>\n",
       "      <td>0.0</td>\n",
       "      <td>0</td>\n",
       "    </tr>\n",
       "    <tr>\n",
       "      <th>1272</th>\n",
       "      <td>0.0</td>\n",
       "      <td>0</td>\n",
       "    </tr>\n",
       "    <tr>\n",
       "      <th>1273</th>\n",
       "      <td>0.0</td>\n",
       "      <td>0</td>\n",
       "    </tr>\n",
       "    <tr>\n",
       "      <th>1274</th>\n",
       "      <td>0.0</td>\n",
       "      <td>0</td>\n",
       "    </tr>\n",
       "  </tbody>\n",
       "</table>\n",
       "</div>\n",
       "    <div class=\"colab-df-buttons\">\n",
       "\n",
       "  <div class=\"colab-df-container\">\n",
       "    <button class=\"colab-df-convert\" onclick=\"convertToInteractive('df-a3c76d56-c8af-409a-87de-9b2afa69376e')\"\n",
       "            title=\"Convert this dataframe to an interactive table.\"\n",
       "            style=\"display:none;\">\n",
       "\n",
       "  <svg xmlns=\"http://www.w3.org/2000/svg\" height=\"24px\" viewBox=\"0 -960 960 960\">\n",
       "    <path d=\"M120-120v-720h720v720H120Zm60-500h600v-160H180v160Zm220 220h160v-160H400v160Zm0 220h160v-160H400v160ZM180-400h160v-160H180v160Zm440 0h160v-160H620v160ZM180-180h160v-160H180v160Zm440 0h160v-160H620v160Z\"/>\n",
       "  </svg>\n",
       "    </button>\n",
       "\n",
       "  <style>\n",
       "    .colab-df-container {\n",
       "      display:flex;\n",
       "      gap: 12px;\n",
       "    }\n",
       "\n",
       "    .colab-df-convert {\n",
       "      background-color: #E8F0FE;\n",
       "      border: none;\n",
       "      border-radius: 50%;\n",
       "      cursor: pointer;\n",
       "      display: none;\n",
       "      fill: #1967D2;\n",
       "      height: 32px;\n",
       "      padding: 0 0 0 0;\n",
       "      width: 32px;\n",
       "    }\n",
       "\n",
       "    .colab-df-convert:hover {\n",
       "      background-color: #E2EBFA;\n",
       "      box-shadow: 0px 1px 2px rgba(60, 64, 67, 0.3), 0px 1px 3px 1px rgba(60, 64, 67, 0.15);\n",
       "      fill: #174EA6;\n",
       "    }\n",
       "\n",
       "    .colab-df-buttons div {\n",
       "      margin-bottom: 4px;\n",
       "    }\n",
       "\n",
       "    [theme=dark] .colab-df-convert {\n",
       "      background-color: #3B4455;\n",
       "      fill: #D2E3FC;\n",
       "    }\n",
       "\n",
       "    [theme=dark] .colab-df-convert:hover {\n",
       "      background-color: #434B5C;\n",
       "      box-shadow: 0px 1px 3px 1px rgba(0, 0, 0, 0.15);\n",
       "      filter: drop-shadow(0px 1px 2px rgba(0, 0, 0, 0.3));\n",
       "      fill: #FFFFFF;\n",
       "    }\n",
       "  </style>\n",
       "\n",
       "    <script>\n",
       "      const buttonEl =\n",
       "        document.querySelector('#df-a3c76d56-c8af-409a-87de-9b2afa69376e button.colab-df-convert');\n",
       "      buttonEl.style.display =\n",
       "        google.colab.kernel.accessAllowed ? 'block' : 'none';\n",
       "\n",
       "      async function convertToInteractive(key) {\n",
       "        const element = document.querySelector('#df-a3c76d56-c8af-409a-87de-9b2afa69376e');\n",
       "        const dataTable =\n",
       "          await google.colab.kernel.invokeFunction('convertToInteractive',\n",
       "                                                    [key], {});\n",
       "        if (!dataTable) return;\n",
       "\n",
       "        const docLinkHtml = 'Like what you see? Visit the ' +\n",
       "          '<a target=\"_blank\" href=https://colab.research.google.com/notebooks/data_table.ipynb>data table notebook</a>'\n",
       "          + ' to learn more about interactive tables.';\n",
       "        element.innerHTML = '';\n",
       "        dataTable['output_type'] = 'display_data';\n",
       "        await google.colab.output.renderOutput(dataTable, element);\n",
       "        const docLink = document.createElement('div');\n",
       "        docLink.innerHTML = docLinkHtml;\n",
       "        element.appendChild(docLink);\n",
       "      }\n",
       "    </script>\n",
       "  </div>\n",
       "\n",
       "\n",
       "<div id=\"df-7dc2ccdc-0778-4928-a5ff-e62ca388d818\">\n",
       "  <button class=\"colab-df-quickchart\" onclick=\"quickchart('df-7dc2ccdc-0778-4928-a5ff-e62ca388d818')\"\n",
       "            title=\"Suggest charts.\"\n",
       "            style=\"display:none;\">\n",
       "\n",
       "<svg xmlns=\"http://www.w3.org/2000/svg\" height=\"24px\"viewBox=\"0 0 24 24\"\n",
       "     width=\"24px\">\n",
       "    <g>\n",
       "        <path d=\"M19 3H5c-1.1 0-2 .9-2 2v14c0 1.1.9 2 2 2h14c1.1 0 2-.9 2-2V5c0-1.1-.9-2-2-2zM9 17H7v-7h2v7zm4 0h-2V7h2v10zm4 0h-2v-4h2v4z\"/>\n",
       "    </g>\n",
       "</svg>\n",
       "  </button>\n",
       "\n",
       "<style>\n",
       "  .colab-df-quickchart {\n",
       "    background-color: #E8F0FE;\n",
       "    border: none;\n",
       "    border-radius: 50%;\n",
       "    cursor: pointer;\n",
       "    display: none;\n",
       "    fill: #1967D2;\n",
       "    height: 32px;\n",
       "    padding: 0 0 0 0;\n",
       "    width: 32px;\n",
       "  }\n",
       "\n",
       "  .colab-df-quickchart:hover {\n",
       "    background-color: #E2EBFA;\n",
       "    box-shadow: 0px 1px 2px rgba(60, 64, 67, 0.3), 0px 1px 3px 1px rgba(60, 64, 67, 0.15);\n",
       "    fill: #174EA6;\n",
       "  }\n",
       "\n",
       "  [theme=dark] .colab-df-quickchart {\n",
       "    background-color: #3B4455;\n",
       "    fill: #D2E3FC;\n",
       "  }\n",
       "\n",
       "  [theme=dark] .colab-df-quickchart:hover {\n",
       "    background-color: #434B5C;\n",
       "    box-shadow: 0px 1px 3px 1px rgba(0, 0, 0, 0.15);\n",
       "    filter: drop-shadow(0px 1px 2px rgba(0, 0, 0, 0.3));\n",
       "    fill: #FFFFFF;\n",
       "  }\n",
       "</style>\n",
       "\n",
       "  <script>\n",
       "    async function quickchart(key) {\n",
       "      const charts = await google.colab.kernel.invokeFunction(\n",
       "          'suggestCharts', [key], {});\n",
       "    }\n",
       "    (() => {\n",
       "      let quickchartButtonEl =\n",
       "        document.querySelector('#df-7dc2ccdc-0778-4928-a5ff-e62ca388d818 button');\n",
       "      quickchartButtonEl.style.display =\n",
       "        google.colab.kernel.accessAllowed ? 'block' : 'none';\n",
       "    })();\n",
       "  </script>\n",
       "</div>\n",
       "    </div>\n",
       "  </div>\n"
      ],
      "text/plain": [
       "      Rainfall Rainy\n",
       "1270       0.0     0\n",
       "1271       0.0     0\n",
       "1272       0.0     0\n",
       "1273       0.0     0\n",
       "1274       0.0     0"
      ]
     },
     "execution_count": 115,
     "metadata": {},
     "output_type": "execute_result"
    }
   ],
   "source": [
    "df.tail(5)"
   ]
  },
  {
   "cell_type": "code",
   "execution_count": 116,
   "metadata": {
    "id": "--fuUuNuFxNf"
   },
   "outputs": [],
   "source": [
    "X_data = data.drop(['month','day','year', 'Rainfall'], axis=1)\n",
    "Y_data = df['Rainy']\n",
    "#X_train, X_test, Y_train, Y_test = train_test_split(X,Y, test_size=0.2, random_state=1)"
   ]
  },
  {
   "cell_type": "code",
   "execution_count": 117,
   "metadata": {
    "colab": {
     "base_uri": "https://localhost:8080/",
     "height": 448
    },
    "id": "QmZ2lO5z-tQl",
    "outputId": "2e04cbea-e99f-4270-ff28-91d32cc5268c"
   },
   "outputs": [
    {
     "data": {
      "text/plain": [
       "<BarContainer object of 1275 artists>"
      ]
     },
     "execution_count": 117,
     "metadata": {},
     "output_type": "execute_result"
    },
    {
     "data": {
      "image/png": "[encoded data removed]",
      "text/plain": [
       "<Figure size 640x480 with 1 Axes>"
      ]
     },
     "metadata": {},
     "output_type": "display_data"
    }
   ],
   "source": [
    "plt.bar(data['month'],df['Rainy'])"
   ]
  },
  {
   "cell_type": "markdown",
   "metadata": {
    "id": "XRhrH-gnf1oy"
   },
   "source": [
    "**Standardizing the data**"
   ]
  },
  {
   "cell_type": "code",
   "execution_count": 118,
   "metadata": {
    "colab": {
     "base_uri": "https://localhost:8080/",
     "height": 333
    },
    "id": "r4MSMkIYSukY",
    "outputId": "e6c77ccc-3a4f-4f0c-9554-dc692c200842"
   },
   "outputs": [
    {
     "name": "stderr",
     "output_type": "stream",
     "text": [
      "/usr/local/lib/python3.10/dist-packages/numpy/core/fromnumeric.py:84: FutureWarning: In a future version, DataFrame.min(axis=None) will return a scalar min over the entire DataFrame. To retain the old behavior, use 'frame.min(axis=0)' or just 'frame.min()'\n",
      "  return reduction(axis=axis, out=out, **passkwargs)\n",
      "/usr/local/lib/python3.10/dist-packages/numpy/core/fromnumeric.py:84: FutureWarning: In a future version, DataFrame.max(axis=None) will return a scalar max over the entire DataFrame. To retain the old behavior, use 'frame.max(axis=0)' or just 'frame.max()'\n",
      "  return reduction(axis=axis, out=out, **passkwargs)\n",
      "/usr/local/lib/python3.10/dist-packages/numpy/core/fromnumeric.py:84: FutureWarning: In a future version, DataFrame.min(axis=None) will return a scalar min over the entire DataFrame. To retain the old behavior, use 'frame.min(axis=0)' or just 'frame.min()'\n",
      "  return reduction(axis=axis, out=out, **passkwargs)\n"
     ]
    },
    {
     "data": {
      "text/html": [
       "\n",
       "  <div id=\"df-00451a24-d10f-4f44-baec-be782236f752\" class=\"colab-df-container\">\n",
       "    <div>\n",
       "<style scoped>\n",
       "    .dataframe tbody tr th:only-of-type {\n",
       "        vertical-align: middle;\n",
       "    }\n",
       "\n",
       "    .dataframe tbody tr th {\n",
       "        vertical-align: top;\n",
       "    }\n",
       "\n",
       "    .dataframe thead th {\n",
       "        text-align: right;\n",
       "    }\n",
       "</style>\n",
       "<table border=\"1\" class=\"dataframe\">\n",
       "  <thead>\n",
       "    <tr style=\"text-align: right;\">\n",
       "      <th></th>\n",
       "      <th>tempHigh</th>\n",
       "      <th>tempAvg</th>\n",
       "      <th>tempLow</th>\n",
       "      <th>DPHigh</th>\n",
       "      <th>DPAvg</th>\n",
       "      <th>DPLow</th>\n",
       "      <th>humidityHigh</th>\n",
       "      <th>humidityAvg</th>\n",
       "      <th>humidityLow</th>\n",
       "      <th>SLPHigh</th>\n",
       "      <th>SLPAvg</th>\n",
       "      <th>SLPLow</th>\n",
       "      <th>visibilityHigh</th>\n",
       "      <th>visibilityAvg</th>\n",
       "      <th>visibilityLow</th>\n",
       "      <th>windAvg</th>\n",
       "      <th>AQI</th>\n",
       "    </tr>\n",
       "  </thead>\n",
       "  <tbody>\n",
       "    <tr>\n",
       "      <th>0</th>\n",
       "      <td>0.242424</td>\n",
       "      <td>0.181818</td>\n",
       "      <td>0.263158</td>\n",
       "      <td>0.190476</td>\n",
       "      <td>0.30</td>\n",
       "      <td>0.444444</td>\n",
       "      <td>0.673077</td>\n",
       "      <td>0.469697</td>\n",
       "      <td>0.422222</td>\n",
       "      <td>0.437500</td>\n",
       "      <td>0.888889</td>\n",
       "      <td>0.870968</td>\n",
       "      <td>0.041667</td>\n",
       "      <td>0.6</td>\n",
       "      <td>0.500000</td>\n",
       "      <td>0.294118</td>\n",
       "      <td>0.327338</td>\n",
       "    </tr>\n",
       "    <tr>\n",
       "      <th>1</th>\n",
       "      <td>0.242424</td>\n",
       "      <td>0.136364</td>\n",
       "      <td>0.263158</td>\n",
       "      <td>0.238095</td>\n",
       "      <td>0.30</td>\n",
       "      <td>0.444444</td>\n",
       "      <td>0.673077</td>\n",
       "      <td>0.515152</td>\n",
       "      <td>0.466667</td>\n",
       "      <td>0.416667</td>\n",
       "      <td>0.814815</td>\n",
       "      <td>0.806452</td>\n",
       "      <td>0.041667</td>\n",
       "      <td>0.4</td>\n",
       "      <td>0.333333</td>\n",
       "      <td>0.470588</td>\n",
       "      <td>0.235612</td>\n",
       "    </tr>\n",
       "    <tr>\n",
       "      <th>2</th>\n",
       "      <td>0.181818</td>\n",
       "      <td>0.090909</td>\n",
       "      <td>0.157895</td>\n",
       "      <td>0.190476</td>\n",
       "      <td>0.30</td>\n",
       "      <td>0.481481</td>\n",
       "      <td>0.769231</td>\n",
       "      <td>0.575758</td>\n",
       "      <td>0.511111</td>\n",
       "      <td>0.375000</td>\n",
       "      <td>0.740741</td>\n",
       "      <td>0.774194</td>\n",
       "      <td>0.000000</td>\n",
       "      <td>0.2</td>\n",
       "      <td>0.333333</td>\n",
       "      <td>0.294118</td>\n",
       "      <td>0.251799</td>\n",
       "    </tr>\n",
       "    <tr>\n",
       "      <th>3</th>\n",
       "      <td>0.181818</td>\n",
       "      <td>0.045455</td>\n",
       "      <td>0.157895</td>\n",
       "      <td>0.190476</td>\n",
       "      <td>0.25</td>\n",
       "      <td>0.407407</td>\n",
       "      <td>0.884615</td>\n",
       "      <td>0.469697</td>\n",
       "      <td>0.444444</td>\n",
       "      <td>0.375000</td>\n",
       "      <td>0.814815</td>\n",
       "      <td>0.806452</td>\n",
       "      <td>0.041667</td>\n",
       "      <td>0.4</td>\n",
       "      <td>0.166667</td>\n",
       "      <td>0.235294</td>\n",
       "      <td>0.178058</td>\n",
       "    </tr>\n",
       "    <tr>\n",
       "      <th>4</th>\n",
       "      <td>0.242424</td>\n",
       "      <td>0.136364</td>\n",
       "      <td>0.210526</td>\n",
       "      <td>0.285714</td>\n",
       "      <td>0.25</td>\n",
       "      <td>0.407407</td>\n",
       "      <td>0.826923</td>\n",
       "      <td>0.424242</td>\n",
       "      <td>0.277778</td>\n",
       "      <td>0.437500</td>\n",
       "      <td>0.851852</td>\n",
       "      <td>0.870968</td>\n",
       "      <td>0.041667</td>\n",
       "      <td>0.4</td>\n",
       "      <td>0.166667</td>\n",
       "      <td>0.235294</td>\n",
       "      <td>0.156475</td>\n",
       "    </tr>\n",
       "  </tbody>\n",
       "</table>\n",
       "</div>\n",
       "    <div class=\"colab-df-buttons\">\n",
       "\n",
       "  <div class=\"colab-df-container\">\n",
       "    <button class=\"colab-df-convert\" onclick=\"convertToInteractive('df-00451a24-d10f-4f44-baec-be782236f752')\"\n",
       "            title=\"Convert this dataframe to an interactive table.\"\n",
       "            style=\"display:none;\">\n",
       "\n",
       "  <svg xmlns=\"http://www.w3.org/2000/svg\" height=\"24px\" viewBox=\"0 -960 960 960\">\n",
       "    <path d=\"M120-120v-720h720v720H120Zm60-500h600v-160H180v160Zm220 220h160v-160H400v160Zm0 220h160v-160H400v160ZM180-400h160v-160H180v160Zm440 0h160v-160H620v160ZM180-180h160v-160H180v160Zm440 0h160v-160H620v160Z\"/>\n",
       "  </svg>\n",
       "    </button>\n",
       "\n",
       "  <style>\n",
       "    .colab-df-container {\n",
       "      display:flex;\n",
       "      gap: 12px;\n",
       "    }\n",
       "\n",
       "    .colab-df-convert {\n",
       "      background-color: #E8F0FE;\n",
       "      border: none;\n",
       "      border-radius: 50%;\n",
       "      cursor: pointer;\n",
       "      display: none;\n",
       "      fill: #1967D2;\n",
       "      height: 32px;\n",
       "      padding: 0 0 0 0;\n",
       "      width: 32px;\n",
       "    }\n",
       "\n",
       "    .colab-df-convert:hover {\n",
       "      background-color: #E2EBFA;\n",
       "      box-shadow: 0px 1px 2px rgba(60, 64, 67, 0.3), 0px 1px 3px 1px rgba(60, 64, 67, 0.15);\n",
       "      fill: #174EA6;\n",
       "    }\n",
       "\n",
       "    .colab-df-buttons div {\n",
       "      margin-bottom: 4px;\n",
       "    }\n",
       "\n",
       "    [theme=dark] .colab-df-convert {\n",
       "      background-color: #3B4455;\n",
       "      fill: #D2E3FC;\n",
       "    }\n",
       "\n",
       "    [theme=dark] .colab-df-convert:hover {\n",
       "      background-color: #434B5C;\n",
       "      box-shadow: 0px 1px 3px 1px rgba(0, 0, 0, 0.15);\n",
       "      filter: drop-shadow(0px 1px 2px rgba(0, 0, 0, 0.3));\n",
       "      fill: #FFFFFF;\n",
       "    }\n",
       "  </style>\n",
       "\n",
       "    <script>\n",
       "      const buttonEl =\n",
       "        document.querySelector('#df-00451a24-d10f-4f44-baec-be782236f752 button.colab-df-convert');\n",
       "      buttonEl.style.display =\n",
       "        google.colab.kernel.accessAllowed ? 'block' : 'none';\n",
       "\n",
       "      async function convertToInteractive(key) {\n",
       "        const element = document.querySelector('#df-00451a24-d10f-4f44-baec-be782236f752');\n",
       "        const dataTable =\n",
       "          await google.colab.kernel.invokeFunction('convertToInteractive',\n",
       "                                                    [key], {});\n",
       "        if (!dataTable) return;\n",
       "\n",
       "        const docLinkHtml = 'Like what you see? Visit the ' +\n",
       "          '<a target=\"_blank\" href=https://colab.research.google.com/notebooks/data_table.ipynb>data table notebook</a>'\n",
       "          + ' to learn more about interactive tables.';\n",
       "        element.innerHTML = '';\n",
       "        dataTable['output_type'] = 'display_data';\n",
       "        await google.colab.output.renderOutput(dataTable, element);\n",
       "        const docLink = document.createElement('div');\n",
       "        docLink.innerHTML = docLinkHtml;\n",
       "        element.appendChild(docLink);\n",
       "      }\n",
       "    </script>\n",
       "  </div>\n",
       "\n",
       "\n",
       "<div id=\"df-86409c93-9622-4103-a97d-722f105ea3e0\">\n",
       "  <button class=\"colab-df-quickchart\" onclick=\"quickchart('df-86409c93-9622-4103-a97d-722f105ea3e0')\"\n",
       "            title=\"Suggest charts.\"\n",
       "            style=\"display:none;\">\n",
       "\n",
       "<svg xmlns=\"http://www.w3.org/2000/svg\" height=\"24px\"viewBox=\"0 0 24 24\"\n",
       "     width=\"24px\">\n",
       "    <g>\n",
       "        <path d=\"M19 3H5c-1.1 0-2 .9-2 2v14c0 1.1.9 2 2 2h14c1.1 0 2-.9 2-2V5c0-1.1-.9-2-2-2zM9 17H7v-7h2v7zm4 0h-2V7h2v10zm4 0h-2v-4h2v4z\"/>\n",
       "    </g>\n",
       "</svg>\n",
       "  </button>\n",
       "\n",
       "<style>\n",
       "  .colab-df-quickchart {\n",
       "    background-color: #E8F0FE;\n",
       "    border: none;\n",
       "    border-radius: 50%;\n",
       "    cursor: pointer;\n",
       "    display: none;\n",
       "    fill: #1967D2;\n",
       "    height: 32px;\n",
       "    padding: 0 0 0 0;\n",
       "    width: 32px;\n",
       "  }\n",
       "\n",
       "  .colab-df-quickchart:hover {\n",
       "    background-color: #E2EBFA;\n",
       "    box-shadow: 0px 1px 2px rgba(60, 64, 67, 0.3), 0px 1px 3px 1px rgba(60, 64, 67, 0.15);\n",
       "    fill: #174EA6;\n",
       "  }\n",
       "\n",
       "  [theme=dark] .colab-df-quickchart {\n",
       "    background-color: #3B4455;\n",
       "    fill: #D2E3FC;\n",
       "  }\n",
       "\n",
       "  [theme=dark] .colab-df-quickchart:hover {\n",
       "    background-color: #434B5C;\n",
       "    box-shadow: 0px 1px 3px 1px rgba(0, 0, 0, 0.15);\n",
       "    filter: drop-shadow(0px 1px 2px rgba(0, 0, 0, 0.3));\n",
       "    fill: #FFFFFF;\n",
       "  }\n",
       "</style>\n",
       "\n",
       "  <script>\n",
       "    async function quickchart(key) {\n",
       "      const charts = await google.colab.kernel.invokeFunction(\n",
       "          'suggestCharts', [key], {});\n",
       "    }\n",
       "    (() => {\n",
       "      let quickchartButtonEl =\n",
       "        document.querySelector('#df-86409c93-9622-4103-a97d-722f105ea3e0 button');\n",
       "      quickchartButtonEl.style.display =\n",
       "        google.colab.kernel.accessAllowed ? 'block' : 'none';\n",
       "    })();\n",
       "  </script>\n",
       "</div>\n",
       "    </div>\n",
       "  </div>\n"
      ],
      "text/plain": [
       "   tempHigh   tempAvg   tempLow    DPHigh  DPAvg     DPLow  humidityHigh  \\\n",
       "0  0.242424  0.181818  0.263158  0.190476   0.30  0.444444      0.673077   \n",
       "1  0.242424  0.136364  0.263158  0.238095   0.30  0.444444      0.673077   \n",
       "2  0.181818  0.090909  0.157895  0.190476   0.30  0.481481      0.769231   \n",
       "3  0.181818  0.045455  0.157895  0.190476   0.25  0.407407      0.884615   \n",
       "4  0.242424  0.136364  0.210526  0.285714   0.25  0.407407      0.826923   \n",
       "\n",
       "   humidityAvg  humidityLow   SLPHigh    SLPAvg    SLPLow  visibilityHigh  \\\n",
       "0     0.469697     0.422222  0.437500  0.888889  0.870968        0.041667   \n",
       "1     0.515152     0.466667  0.416667  0.814815  0.806452        0.041667   \n",
       "2     0.575758     0.511111  0.375000  0.740741  0.774194        0.000000   \n",
       "3     0.469697     0.444444  0.375000  0.814815  0.806452        0.041667   \n",
       "4     0.424242     0.277778  0.437500  0.851852  0.870968        0.041667   \n",
       "\n",
       "   visibilityAvg  visibilityLow   windAvg       AQI  \n",
       "0            0.6       0.500000  0.294118  0.327338  \n",
       "1            0.4       0.333333  0.470588  0.235612  \n",
       "2            0.2       0.333333  0.294118  0.251799  \n",
       "3            0.4       0.166667  0.235294  0.178058  \n",
       "4            0.4       0.166667  0.235294  0.156475  "
      ]
     },
     "execution_count": 118,
     "metadata": {},
     "output_type": "execute_result"
    }
   ],
   "source": [
    "x = (X_data - np.min(X_data)) / (np.max(X_data) - np.min(X_data))\n",
    "x.head(5)"
   ]
  },
  {
   "cell_type": "markdown",
   "metadata": {
    "id": "V1JRQT90gRZ1"
   },
   "source": [
    "###Classification"
   ]
  },
  {
   "cell_type": "code",
   "execution_count": 119,
   "metadata": {
    "id": "vwgexhRuOl0N"
   },
   "outputs": [],
   "source": [
    "#Splitting the data into train and test\n",
    "x_train, x_test, y_train, y_test = train_test_split(X_data, Y_data, test_size=0.2)"
   ]
  },
  {
   "cell_type": "markdown",
   "metadata": {
    "id": "ZjJe3oSUgxqO"
   },
   "source": [
    "Metrics we will use?\n",
    "\n",
    "1.   **Confusion Matrix**\n",
    "      Reason - A confusion matrix prints the correct and also incorrect values in number count . It helps us for a good Data Visualization It gives us insight not only into the errors being made by a classifier but more importantly the types of errors that are being made.\n",
    "\n",
    "2.   **Accuracy Score**\n",
    "      Reason - Accuracy is used when the True Positives and True negatives are more important while F1-score is used when the False Negatives and False Positives are crucial. Accuracy can be used when the class distribution is similar while F1-score is a better metric when there are imbalanced classes as in the above case.\n",
    "\n"
   ]
  },
  {
   "cell_type": "code",
   "execution_count": 120,
   "metadata": {
    "id": "hOxa70qHDpt8"
   },
   "outputs": [],
   "source": [
    "from sklearn.metrics import classification_report, confusion_matrix, accuracy_score"
   ]
  },
  {
   "cell_type": "markdown",
   "metadata": {
    "id": "2xd_cMxDhuEm"
   },
   "source": [
    "Logistic Regression\n",
    "\n",
    "Logistic regression is a supervised learning classification algorithm used to predict the probability of a target variable. The nature of target or dependent variable is dichotomous, which means there would be only two possible classes.\n",
    "\n"
   ]
  },
  {
   "cell_type": "code",
   "execution_count": 121,
   "metadata": {
    "colab": {
     "base_uri": "https://localhost:8080/",
     "height": 0
    },
    "id": "hze5rzN_D_-q",
    "outputId": "89be75cf-8590-41a2-c130-bbb78bb9e800"
   },
   "outputs": [
    {
     "name": "stdout",
     "output_type": "stream",
     "text": [
      "[[180  19]\n",
      " [ 27  29]]\n",
      "              precision    recall  f1-score   support\n",
      "\n",
      "           0       0.87      0.90      0.89       199\n",
      "           1       0.60      0.52      0.56        56\n",
      "\n",
      "    accuracy                           0.82       255\n",
      "   macro avg       0.74      0.71      0.72       255\n",
      "weighted avg       0.81      0.82      0.81       255\n",
      "\n",
      "0.8196078431372549\n",
      "0.8196078431372549\n"
     ]
    },
    {
     "name": "stderr",
     "output_type": "stream",
     "text": [
      "/usr/local/lib/python3.10/dist-packages/sklearn/linear_model/_logistic.py:458: ConvergenceWarning: lbfgs failed to converge (status=1):\n",
      "STOP: TOTAL NO. of ITERATIONS REACHED LIMIT.\n",
      "\n",
      "Increase the number of iterations (max_iter) or scale the data as shown in:\n",
      "    https://scikit-learn.org/stable/modules/preprocessing.html\n",
      "Please also refer to the documentation for alternative solver options:\n",
      "    https://scikit-learn.org/stable/modules/linear_model.html#logistic-regression\n",
      "  n_iter_i = _check_optimize_result(\n"
     ]
    }
   ],
   "source": [
    "from sklearn.linear_model import LogisticRegression\n",
    "lr = LogisticRegression()\n",
    "lr.fit(x_train,y_train)\n",
    "predictions = lr.predict(x_test)\n",
    "print(confusion_matrix(y_test,predictions))\n",
    "print(classification_report(y_test,predictions))\n",
    "a_score = accuracy_score(y_test,predictions)\n",
    "print(accuracy_score(y_test,predictions))\n",
    "print(a_score)"
   ]
  },
  {
   "cell_type": "code",
   "execution_count": 122,
   "metadata": {
    "colab": {
     "base_uri": "https://localhost:8080/",
     "height": 757
    },
    "id": "tsxITDZ2oKm8",
    "outputId": "21737cff-9d2d-4d2e-e304-2d479a222bd2"
   },
   "outputs": [
    {
     "data": {
      "text/plain": [
       "Text(0.5, 1.0, 'Accuracy  score : 0.8196078431372549')"
      ]
     },
     "execution_count": 122,
     "metadata": {},
     "output_type": "execute_result"
    },
    {
     "data": {
      "image/png": "[encoded data removed]",
      "text/plain": [
       "<Figure size 900x900 with 2 Axes>"
      ]
     },
     "metadata": {},
     "output_type": "display_data"
    }
   ],
   "source": [
    "cm = confusion_matrix(y_test, predictions)\n",
    "plt.figure(figsize=(9,9))\n",
    "sns.heatmap(cm, annot=True, fmt=\".3f\", linewidths=.5, square=True, cmap = 'Blues_r')\n",
    "plt.ylabel('Actual Label')\n",
    "plt.xlabel('Predicted Label')\n",
    "all_sample_title = 'Accuracy  score : {0}'.format(a_score)\n",
    "plt.title(all_sample_title, size = 15)"
   ]
  },
  {
   "cell_type": "markdown",
   "metadata": {
    "id": "tWWYamI1iX8g"
   },
   "source": [
    "Decision Tree Classifier\n",
    "\n",
    "Decision Trees (DTs) are a non-parametric supervised learning method used for classification and regression. The goal is to create a model that predicts the value of a target variable by learning simple decision rules inferred from the data features. A tree can be seen as a piecewise constant approximation.\n",
    "\n",
    "Advantages -\n",
    "\n",
    "> Simple to understand and to interpret. Trees can be visualized.\n",
    "\n",
    "> Requires little data preparation. Other techniques often require data normalization, dummy variables need to be created and blank values to be removed. Note however that this module does not support missing values.\n",
    "\n",
    "> The cost of using the tree (i.e., predicting data) is logarithmic in the number of data points used to train the tree.\n",
    "\n",
    "> Able to handle both numerical and categorical data. However, the scikit-learn implementation does not support categorical variables for now. Other techniques are usually specialized in analyzing datasets that have only one type of variable. See algorithms for more information.\n",
    "\n"
   ]
  },
  {
   "cell_type": "code",
   "execution_count": 123,
   "metadata": {
    "colab": {
     "base_uri": "https://localhost:8080/",
     "height": 0
    },
    "id": "PFDPW34kP1DB",
    "outputId": "8514899a-96fb-4642-f0ca-89b0e3f52d5f"
   },
   "outputs": [
    {
     "name": "stdout",
     "output_type": "stream",
     "text": [
      "[[168  31]\n",
      " [ 30  26]]\n",
      "              precision    recall  f1-score   support\n",
      "\n",
      "           0       0.85      0.84      0.85       199\n",
      "           1       0.46      0.46      0.46        56\n",
      "\n",
      "    accuracy                           0.76       255\n",
      "   macro avg       0.65      0.65      0.65       255\n",
      "weighted avg       0.76      0.76      0.76       255\n",
      "\n",
      "0.7607843137254902\n",
      "0.7607843137254902\n"
     ]
    }
   ],
   "source": [
    "from sklearn.tree import DecisionTreeClassifier\n",
    "dt = DecisionTreeClassifier()\n",
    "dt.fit(x_train,y_train)\n",
    "predictions = dt.predict(x_test)\n",
    "print(confusion_matrix(y_test,predictions))\n",
    "print(classification_report(y_test,predictions))\n",
    "a_score = accuracy_score(y_test,predictions)\n",
    "print(accuracy_score(y_test,predictions))\n",
    "print(a_score)"
   ]
  },
  {
   "cell_type": "code",
   "execution_count": 124,
   "metadata": {
    "colab": {
     "base_uri": "https://localhost:8080/",
     "height": 748
    },
    "id": "Lzt__p5DoA3f",
    "outputId": "e428e661-5901-48d6-c9c8-bafb4e70a9a8"
   },
   "outputs": [
    {
     "data": {
      "text/plain": [
       "Text(0.5, 1.0, 'Accuracy  score : 0.7607843137254902')"
      ]
     },
     "execution_count": 124,
     "metadata": {},
     "output_type": "execute_result"
    },
    {
     "data": {
      "image/png": "[encoded data removed]",
      "text/plain": [
       "<Figure size 900x900 with 2 Axes>"
      ]
     },
     "metadata": {},
     "output_type": "display_data"
    }
   ],
   "source": [
    "cm = confusion_matrix(y_test, predictions)\n",
    "plt.figure(figsize=(9,9))\n",
    "sns.heatmap(cm, annot=True, fmt=\".3f\", linewidths=.5, square=True, cmap = 'Blues_r')\n",
    "plt.ylabel('Actual Label')\n",
    "plt.xlabel('Predicted Label')\n",
    "all_sample_title = 'Accuracy  score : {0}'.format(a_score)\n",
    "plt.title(all_sample_title, size = 15)"
   ]
  },
  {
   "cell_type": "markdown",
   "metadata": {
    "id": "RDK9m-_Ejjy9"
   },
   "source": [
    "KNN Classifier\n",
    "\n",
    "> K-Nearest Neighbour is one of the simplest Machine Learning algorithms based on Supervised Learning technique.\n",
    "\n",
    "> It is robust to the noisy training data, this is it's biggest advantage."
   ]
  },
  {
   "cell_type": "code",
   "execution_count": 125,
   "metadata": {
    "colab": {
     "base_uri": "https://localhost:8080/",
     "height": 0
    },
    "id": "ju9kZ6opMEwW",
    "outputId": "caa67cb1-080f-4b25-b0ad-e0917656dc5b"
   },
   "outputs": [
    {
     "name": "stdout",
     "output_type": "stream",
     "text": [
      "[[168  31]\n",
      " [ 26  30]]\n",
      "              precision    recall  f1-score   support\n",
      "\n",
      "           0       0.87      0.84      0.85       199\n",
      "           1       0.49      0.54      0.51        56\n",
      "\n",
      "    accuracy                           0.78       255\n",
      "   macro avg       0.68      0.69      0.68       255\n",
      "weighted avg       0.78      0.78      0.78       255\n",
      "\n",
      "0.7764705882352941\n",
      "0.7764705882352941\n"
     ]
    }
   ],
   "source": [
    "from sklearn.neighbors import KNeighborsClassifier\n",
    "knn = KNeighborsClassifier(n_neighbors=3)\n",
    "knn.fit(x_train,y_train)\n",
    "predictions = knn.predict(x_test)\n",
    "print(confusion_matrix(y_test,predictions))\n",
    "print(classification_report(y_test,predictions))\n",
    "a_score = accuracy_score(y_test,predictions)\n",
    "print(accuracy_score(y_test,predictions))\n",
    "print(a_score)"
   ]
  },
  {
   "cell_type": "code",
   "execution_count": 126,
   "metadata": {
    "colab": {
     "base_uri": "https://localhost:8080/",
     "height": 748
    },
    "id": "7Jvz2EHJnu8n",
    "outputId": "9f59ec92-a380-4154-a0fb-13c9230ec406"
   },
   "outputs": [
    {
     "data": {
      "text/plain": [
       "Text(0.5, 1.0, 'Accuracy  score : 0.7764705882352941')"
      ]
     },
     "execution_count": 126,
     "metadata": {},
     "output_type": "execute_result"
    },
    {
     "data": {
      "image/png": "[encoded data removed]",
      "text/plain": [
       "<Figure size 900x900 with 2 Axes>"
      ]
     },
     "metadata": {},
     "output_type": "display_data"
    }
   ],
   "source": [
    "cm = confusion_matrix(y_test, predictions)\n",
    "plt.figure(figsize=(9,9))\n",
    "sns.heatmap(cm, annot=True, fmt=\".3f\", linewidths=.5, square=True, cmap = 'Blues_r')\n",
    "plt.ylabel('Actual Label')\n",
    "plt.xlabel('Predicted Label')\n",
    "all_sample_title = 'Accuracy  score : {0}'.format(a_score)\n",
    "plt.title(all_sample_title, size = 15)"
   ]
  },
  {
   "cell_type": "markdown",
   "metadata": {
    "id": "UjLOsV0am47t"
   },
   "source": [
    "Random Forest Classifier\n",
    "\n",
    "\n",
    "A random forest classifier. A random forest is a meta estimator that fits a number of decision tree classifiers on various sub-samples of the dataset and uses averaging to improve the predictive accuracy and control over-fitting."
   ]
  },
  {
   "cell_type": "code",
   "execution_count": 127,
   "metadata": {
    "colab": {
     "base_uri": "https://localhost:8080/",
     "height": 0
    },
    "id": "zk-7l0GkQnOZ",
    "outputId": "2b34a870-0977-4188-8549-d6384235c1be"
   },
   "outputs": [
    {
     "name": "stdout",
     "output_type": "stream",
     "text": [
      "[[184  15]\n",
      " [ 24  32]]\n",
      "              precision    recall  f1-score   support\n",
      "\n",
      "           0       0.88      0.92      0.90       199\n",
      "           1       0.68      0.57      0.62        56\n",
      "\n",
      "    accuracy                           0.85       255\n",
      "   macro avg       0.78      0.75      0.76       255\n",
      "weighted avg       0.84      0.85      0.84       255\n",
      "\n",
      "0.8470588235294118\n",
      "0.8470588235294118\n"
     ]
    }
   ],
   "source": [
    "from sklearn.ensemble import RandomForestClassifier\n",
    "rf = RandomForestClassifier()\n",
    "rf.fit(x_train,y_train)\n",
    "predictions = rf.predict(x_test)\n",
    "print(confusion_matrix(y_test,predictions))\n",
    "print(classification_report(y_test,predictions))\n",
    "a_score = accuracy_score(y_test,predictions)\n",
    "print(accuracy_score(y_test,predictions))\n",
    "print(a_score)"
   ]
  },
  {
   "cell_type": "code",
   "execution_count": 128,
   "metadata": {
    "colab": {
     "base_uri": "https://localhost:8080/",
     "height": 0
    },
    "id": "c-DSLtW-zAxt",
    "outputId": "8b89d2a7-f6be-4300-cd18-2fa022f95b96"
   },
   "outputs": [
    {
     "name": "stdout",
     "output_type": "stream",
     "text": [
      "[[184  15]\n",
      " [ 24  32]]\n"
     ]
    }
   ],
   "source": [
    "cm = confusion_matrix(y_test, predictions)\n",
    "print(cm)"
   ]
  },
  {
   "cell_type": "code",
   "execution_count": 129,
   "metadata": {
    "colab": {
     "base_uri": "https://localhost:8080/",
     "height": 748
    },
    "id": "QS7dICKzojBL",
    "outputId": "71a0de90-5aa5-421e-ac34-4f87e02eec8e"
   },
   "outputs": [
    {
     "data": {
      "text/plain": [
       "Text(0.5, 1.0, 'Accuracy  score : 0.8470588235294118')"
      ]
     },
     "execution_count": 129,
     "metadata": {},
     "output_type": "execute_result"
    },
    {
     "data": {
      "image/png": "[encoded data removed]",
      "text/plain": [
       "<Figure size 900x900 with 2 Axes>"
      ]
     },
     "metadata": {},
     "output_type": "display_data"
    }
   ],
   "source": [
    "plt.figure(figsize=(9,9))\n",
    "sns.heatmap(cm, annot=True, fmt=\".3f\", linewidths=.5, square=True, cmap = 'Blues_r')\n",
    "plt.ylabel('Actual Label')\n",
    "plt.xlabel('Predicted Label')\n",
    "all_sample_title = 'Accuracy  score : {0}'.format(a_score)\n",
    "plt.title(all_sample_title, size = 15)"
   ]
  },
  {
   "cell_type": "markdown",
   "metadata": {
    "id": "qq0zAQa5nesO"
   },
   "source": [
    "Comment -\n",
    "\n",
    "As we can see in this model we achieve the highest Accuracy score of 0.8470"
   ]
  },
  {
   "cell_type": "markdown",
   "metadata": {
    "id": "qdEP8VX-o8kB"
   },
   "source": [
    "Comparison of models based on Accuracy Score -\n",
    "\n",
    "![Screenshot 2023-08-20 at 9.25.53 PM.png](data:image/png;base64,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)"
   ]
  },
  {
   "cell_type": "markdown",
   "metadata": {
    "id": "P57SEAh1qVk0"
   },
   "source": [
    "**Conclusion and observations -**\n",
    "\n",
    "Our goal was to predict whether there will be rainfall in a specific day or not?\n",
    "\n",
    "The result clearly indicates that all our models are able provide good assumptions and Random Forest Classifier has the best Accuracy Score.\n",
    "\n",
    "We can see out of the test data -\n",
    "There was 184 No Rain = NO (0) values and 24 Rain = yes (1) values.\n",
    "\n",
    "Random forest classifier has the highest success rate on predicting the 0 and 1 values.\n",
    "\n",
    "From the heatmap we can conclude that Random Forest has the highest success rate."
   ]
  },
  {
   "cell_type": "markdown",
   "metadata": {
    "id": "yxR4JU0or0z_"
   },
   "source": [
    "###Regression"
   ]
  },
  {
   "cell_type": "markdown",
   "metadata": {
    "id": "emZUa52sr4M4"
   },
   "source": [
    "In Regression we are going to predict the Average temperature."
   ]
  },
  {
   "cell_type": "code",
   "execution_count": 194,
   "metadata": {
    "id": "PEBvlXj5pcMj"
   },
   "outputs": [],
   "source": [
    "data_new = pd.read_csv('Weather Data and Air Quality Index of Chittagong.csv')\n",
    "X_data = data_new.drop(['tempHigh', 'tempLow', 'tempAvg'], axis=1)\n",
    "Y_data = data_new['tempAvg']"
   ]
  },
  {
   "cell_type": "code",
   "execution_count": 195,
   "metadata": {
    "colab": {
     "base_uri": "https://localhost:8080/",
     "height": 0
    },
    "id": "_KYN7RKkqLQk",
    "outputId": "255647be-4744-472b-b5c1-c98f28e801b2"
   },
   "outputs": [
    {
     "data": {
      "text/plain": [
       "0       21\n",
       "1       20\n",
       "2       19\n",
       "3       18\n",
       "4       20\n",
       "        ..\n",
       "1270    23\n",
       "1271    22\n",
       "1272    23\n",
       "1273    23\n",
       "1274    24\n",
       "Name: tempAvg, Length: 1275, dtype: int64"
      ]
     },
     "execution_count": 195,
     "metadata": {},
     "output_type": "execute_result"
    }
   ],
   "source": [
    "Y_data"
   ]
  },
  {
   "cell_type": "code",
   "execution_count": 196,
   "metadata": {
    "id": "E-V53HU5F6wg"
   },
   "outputs": [],
   "source": [
    "x_train, x_test, y_train, y_test = train_test_split(X_data, Y_data, test_size=0.2, random_state=1)"
   ]
  },
  {
   "cell_type": "markdown",
   "metadata": {
    "id": "7NiFATkG4REx"
   },
   "source": [
    "**Linear Regression**\n",
    "\n",
    "Linear regression is a type of supervised machine learning algorithm that computes the linear relationship between a dependent variable and one or more independent features. When the number of the independent feature, is 1 then it is known as Univariate Linear regression, and in the case of more than one feature, it is known as multivariate linear regression. The goal of the algorithm is to find the best linear equation that can predict the value of the dependent variable based on the independent variables.\n",
    "\n",
    "Reason -\n",
    "> Linear Regression is simple to implement and easier to interpret the output coefficients.\n",
    "\n",
    "> Linear Regression is susceptible to over-fitting but it can be avoided using some dimensionality reduction techniques, regularization (L1 and L2) techniques and cross-validation."
   ]
  },
  {
   "cell_type": "code",
   "execution_count": 197,
   "metadata": {
    "colab": {
     "base_uri": "https://localhost:8080/",
     "height": 75
    },
    "id": "7ow2sB8RF9oZ",
    "outputId": "ed67d950-a88a-4b55-f3e0-dd2eb2c91680"
   },
   "outputs": [
    {
     "data": {
      "text/html": [
       "<style>#sk-container-id-6 {color: black;background-color: white;}#sk-container-id-6 pre{padding: 0;}#sk-container-id-6 div.sk-toggleable {background-color: white;}#sk-container-id-6 label.sk-toggleable__label {cursor: pointer;display: block;width: 100%;margin-bottom: 0;padding: 0.3em;box-sizing: border-box;text-align: center;}#sk-container-id-6 label.sk-toggleable__label-arrow:before {content: \"▸\";float: left;margin-right: 0.25em;color: #696969;}#sk-container-id-6 label.sk-toggleable__label-arrow:hover:before {color: black;}#sk-container-id-6 div.sk-estimator:hover label.sk-toggleable__label-arrow:before {color: black;}#sk-container-id-6 div.sk-toggleable__content {max-height: 0;max-width: 0;overflow: hidden;text-align: left;background-color: #f0f8ff;}#sk-container-id-6 div.sk-toggleable__content pre {margin: 0.2em;color: black;border-radius: 0.25em;background-color: #f0f8ff;}#sk-container-id-6 input.sk-toggleable__control:checked~div.sk-toggleable__content {max-height: 200px;max-width: 100%;overflow: auto;}#sk-container-id-6 input.sk-toggleable__control:checked~label.sk-toggleable__label-arrow:before {content: \"▾\";}#sk-container-id-6 div.sk-estimator input.sk-toggleable__control:checked~label.sk-toggleable__label {background-color: #d4ebff;}#sk-container-id-6 div.sk-label input.sk-toggleable__control:checked~label.sk-toggleable__label {background-color: #d4ebff;}#sk-container-id-6 input.sk-hidden--visually {border: 0;clip: rect(1px 1px 1px 1px);clip: rect(1px, 1px, 1px, 1px);height: 1px;margin: -1px;overflow: hidden;padding: 0;position: absolute;width: 1px;}#sk-container-id-6 div.sk-estimator {font-family: monospace;background-color: #f0f8ff;border: 1px dotted black;border-radius: 0.25em;box-sizing: border-box;margin-bottom: 0.5em;}#sk-container-id-6 div.sk-estimator:hover {background-color: #d4ebff;}#sk-container-id-6 div.sk-parallel-item::after {content: \"\";width: 100%;border-bottom: 1px solid gray;flex-grow: 1;}#sk-container-id-6 div.sk-label:hover label.sk-toggleable__label {background-color: #d4ebff;}#sk-container-id-6 div.sk-serial::before {content: \"\";position: absolute;border-left: 1px solid gray;box-sizing: border-box;top: 0;bottom: 0;left: 50%;z-index: 0;}#sk-container-id-6 div.sk-serial {display: flex;flex-direction: column;align-items: center;background-color: white;padding-right: 0.2em;padding-left: 0.2em;position: relative;}#sk-container-id-6 div.sk-item {position: relative;z-index: 1;}#sk-container-id-6 div.sk-parallel {display: flex;align-items: stretch;justify-content: center;background-color: white;position: relative;}#sk-container-id-6 div.sk-item::before, #sk-container-id-6 div.sk-parallel-item::before {content: \"\";position: absolute;border-left: 1px solid gray;box-sizing: border-box;top: 0;bottom: 0;left: 50%;z-index: -1;}#sk-container-id-6 div.sk-parallel-item {display: flex;flex-direction: column;z-index: 1;position: relative;background-color: white;}#sk-container-id-6 div.sk-parallel-item:first-child::after {align-self: flex-end;width: 50%;}#sk-container-id-6 div.sk-parallel-item:last-child::after {align-self: flex-start;width: 50%;}#sk-container-id-6 div.sk-parallel-item:only-child::after {width: 0;}#sk-container-id-6 div.sk-dashed-wrapped {border: 1px dashed gray;margin: 0 0.4em 0.5em 0.4em;box-sizing: border-box;padding-bottom: 0.4em;background-color: white;}#sk-container-id-6 div.sk-label label {font-family: monospace;font-weight: bold;display: inline-block;line-height: 1.2em;}#sk-container-id-6 div.sk-label-container {text-align: center;}#sk-container-id-6 div.sk-container {/* jupyter's `normalize.less` sets `[hidden] { display: none; }` but bootstrap.min.css set `[hidden] { display: none !important; }` so we also need the `!important` here to be able to override the default hidden behavior on the sphinx rendered scikit-learn.org. See: https://github.com/scikit-learn/scikit-learn/issues/21755 */display: inline-block !important;position: relative;}#sk-container-id-6 div.sk-text-repr-fallback {display: none;}</style><div id=\"sk-container-id-6\" class=\"sk-top-container\"><div class=\"sk-text-repr-fallback\"><pre>LinearRegression()</pre><b>In a Jupyter environment, please rerun this cell to show the HTML representation or trust the notebook. <br />On GitHub, the HTML representation is unable to render, please try loading this page with nbviewer.org.</b></div><div class=\"sk-container\" hidden><div class=\"sk-item\"><div class=\"sk-estimator sk-toggleable\"><input class=\"sk-toggleable__control sk-hidden--visually\" id=\"sk-estimator-id-6\" type=\"checkbox\" checked><label for=\"sk-estimator-id-6\" class=\"sk-toggleable__label sk-toggleable__label-arrow\">LinearRegression</label><div class=\"sk-toggleable__content\"><pre>LinearRegression()</pre></div></div></div></div></div>"
      ],
      "text/plain": [
       "LinearRegression()"
      ]
     },
     "execution_count": 197,
     "metadata": {},
     "output_type": "execute_result"
    }
   ],
   "source": [
    "regressor = LinearRegression()\n",
    "regressor.fit(x_train, y_train)"
   ]
  },
  {
   "cell_type": "code",
   "execution_count": 198,
   "metadata": {
    "id": "vuj41vcfsdY0"
   },
   "outputs": [],
   "source": [
    "y_pred = regressor.predict(x_test)"
   ]
  },
  {
   "cell_type": "code",
   "execution_count": 199,
   "metadata": {
    "colab": {
     "base_uri": "https://localhost:8080/",
     "height": 0
    },
    "id": "T0glrLpqskxu",
    "outputId": "11469cca-04a1-40b8-e300-00bae78cc42a"
   },
   "outputs": [
    {
     "name": "stdout",
     "output_type": "stream",
     "text": [
      "[ 4.25092766e-02  1.55330776e-02 -1.97505106e-03  2.18453043e-01\n",
      "  6.47205907e-01  6.27991284e-02 -2.83802253e-02 -1.56971581e-01\n",
      " -2.22486892e-02  2.19635891e-02 -1.47510085e-01  8.78296519e-02\n",
      "  5.81250615e-03  1.13104265e-01 -4.20644720e-02  3.51030848e-03\n",
      "  7.70903546e-03 -2.38767154e-04]\n"
     ]
    }
   ],
   "source": [
    "print(regressor.coef_)"
   ]
  },
  {
   "cell_type": "code",
   "execution_count": 200,
   "metadata": {
    "colab": {
     "base_uri": "https://localhost:8080/",
     "height": 0
    },
    "id": "z8frABlCr-Fd",
    "outputId": "1ffad475-2954-4c41-ccaf-125ef405b1b2"
   },
   "outputs": [
    {
     "name": "stdout",
     "output_type": "stream",
     "text": [
      "-26.792698421273876\n"
     ]
    }
   ],
   "source": [
    "print(regressor.intercept_)"
   ]
  },
  {
   "cell_type": "code",
   "execution_count": 201,
   "metadata": {
    "colab": {
     "base_uri": "https://localhost:8080/",
     "height": 0
    },
    "id": "Wm4WSDCKrkUa",
    "outputId": "f9d55e8d-0f84-432a-b693-5adf8ab62237"
   },
   "outputs": [
    {
     "data": {
      "text/plain": [
       "0.9352142043028421"
      ]
     },
     "execution_count": 201,
     "metadata": {},
     "output_type": "execute_result"
    }
   ],
   "source": [
    "from sklearn.metrics import r2_score\n",
    "r2_score(y_test,y_pred)"
   ]
  },
  {
   "cell_type": "code",
   "execution_count": 202,
   "metadata": {
    "id": "_jEGvMn-GMn_"
   },
   "outputs": [],
   "source": [
    "mse = mean_squared_error(y_test, y_pred)"
   ]
  },
  {
   "cell_type": "code",
   "execution_count": 203,
   "metadata": {
    "colab": {
     "base_uri": "https://localhost:8080/",
     "height": 0
    },
    "id": "22qJRBT8GSaL",
    "outputId": "50697c44-f3fb-4bf3-b653-401223844308"
   },
   "outputs": [
    {
     "name": "stdout",
     "output_type": "stream",
     "text": [
      "MSE : 0.6840204366428447\n"
     ]
    }
   ],
   "source": [
    "print (\"MSE :\", mse)"
   ]
  },
  {
   "cell_type": "markdown",
   "metadata": {
    "id": "mbVembrs4NFX"
   },
   "source": [
    "**Ridge Regression**\n",
    "\n",
    "Ridge regression is a model tuning method that is used to analyse any data that suffers from multicollinearity. This method performs L2 regularization. When the issue of multicollinearity occurs, least-squares are unbiased, and variances are large, this results in predicted values being far away from the actual values.\n",
    "\n",
    "\n",
    "Advantages -\n",
    "> Avoids overfitting a model.\n",
    "\n",
    "> They add just enough bias to make the estimates reasonably reliable approximations to true population values."
   ]
  },
  {
   "cell_type": "code",
   "execution_count": 204,
   "metadata": {
    "id": "4828h5KryypI"
   },
   "outputs": [],
   "source": [
    "from sklearn.linear_model import Ridge\n",
    "rdg = Ridge(alpha = 1.0)\n",
    "rdg.fit(x_train,y_train)\n",
    "predictions = rdg.predict(x_test)"
   ]
  },
  {
   "cell_type": "code",
   "execution_count": 205,
   "metadata": {
    "colab": {
     "base_uri": "https://localhost:8080/",
     "height": 0
    },
    "id": "chtyhxo7yyui",
    "outputId": "e46677eb-083d-48b7-8cb5-51d1b793823c"
   },
   "outputs": [
    {
     "name": "stdout",
     "output_type": "stream",
     "text": [
      "Intercept : -26.60\n"
     ]
    }
   ],
   "source": [
    "print(\"Intercept : %.2f\" % rdg.intercept_)"
   ]
  },
  {
   "cell_type": "code",
   "execution_count": 206,
   "metadata": {
    "colab": {
     "base_uri": "https://localhost:8080/",
     "height": 0
    },
    "id": "rMoUkgHdyy0Z",
    "outputId": "35420fb8-40ec-4e44-d033-3e0fcbc02283"
   },
   "outputs": [
    {
     "name": "stdout",
     "output_type": "stream",
     "text": [
      "MSE : 0.6839415618884583\n"
     ]
    }
   ],
   "source": [
    "mse = mean_squared_error(y_test, predictions)\n",
    "print (\"MSE :\", mse)"
   ]
  },
  {
   "cell_type": "code",
   "execution_count": 207,
   "metadata": {
    "colab": {
     "base_uri": "https://localhost:8080/",
     "height": 0
    },
    "id": "g9f4etSjsyg5",
    "outputId": "b5aead47-578e-4a66-a442-51a7f8c690ae"
   },
   "outputs": [
    {
     "data": {
      "text/plain": [
       "0.9352216747868358"
      ]
     },
     "execution_count": 207,
     "metadata": {},
     "output_type": "execute_result"
    }
   ],
   "source": [
    "r2_score(y_test,predictions)"
   ]
  },
  {
   "cell_type": "markdown",
   "metadata": {
    "id": "hOwGwP751S5c"
   },
   "source": [
    "**Lasso Regression**\n",
    "\n",
    "LASSO regression, also known as L1 regularization, is a popular technique used in statistical modeling and machine learning to estimate the relationships between variables and make predictions. LASSO stands for Least Absolute Shrinkage and Selection Operator.\n",
    "\n",
    "Advantages -\n",
    "\n",
    "> The main advantage of a LASSO regression model is that it has the ability to set the coefficients for features it does not consider interesting to zero. This means that the model does some automatic feature selection to decide which features should and should not be included on its own."
   ]
  },
  {
   "cell_type": "code",
   "execution_count": 208,
   "metadata": {
    "colab": {
     "base_uri": "https://localhost:8080/",
     "height": 0
    },
    "id": "OqzfGq9sp_sd",
    "outputId": "ef82d863-ff3e-473b-ea70-2c48d155b99d"
   },
   "outputs": [
    {
     "name": "stdout",
     "output_type": "stream",
     "text": [
      "Slope : 0.00\n"
     ]
    }
   ],
   "source": [
    "from sklearn.linear_model import Lasso\n",
    "lasso = Lasso(alpha = 1.0)\n",
    "lasso.fit(x_train,y_train)\n",
    "predictions = lasso.predict(x_test)\n",
    "print(\"Slope : %.2f\" % lasso.coef_[0])"
   ]
  },
  {
   "cell_type": "code",
   "execution_count": 209,
   "metadata": {
    "colab": {
     "base_uri": "https://localhost:8080/",
     "height": 0
    },
    "id": "au8Ulhtq4HIJ",
    "outputId": "d3eab2fb-0852-4795-cf05-27c173d713ab"
   },
   "outputs": [
    {
     "name": "stdout",
     "output_type": "stream",
     "text": [
      "MSE : 0.877135194705326\n"
     ]
    }
   ],
   "source": [
    "mse = mean_squared_error(y_test, predictions)\n",
    "print (\"MSE :\", mse)"
   ]
  },
  {
   "cell_type": "code",
   "execution_count": 210,
   "metadata": {
    "colab": {
     "base_uri": "https://localhost:8080/",
     "height": 0
    },
    "id": "_P_6WBFQsIG3",
    "outputId": "d6fee381-41bb-4eb1-f479-b19730780e40"
   },
   "outputs": [
    {
     "data": {
      "text/plain": [
       "0.9169236787692102"
      ]
     },
     "execution_count": 210,
     "metadata": {},
     "output_type": "execute_result"
    }
   ],
   "source": [
    "r2_score(y_test,predictions)"
   ]
  },
  {
   "cell_type": "markdown",
   "metadata": {
    "id": "vvPvN6iQ1NN3"
   },
   "source": [
    "**K Neighbors Regressor**\n",
    "\n",
    "KNN regression is a non-parametric method that, in an intuitive manner, approximates the association between independent variables and the continuous outcome by averaging the observations in the same neighbourhood.\n",
    "\n",
    "Advantages -\n",
    "> KNN modeling does not include training period as the data itself is a model which will be the reference for future prediction and because of this it is very time efficient in term of improvising for a random modeling on the available data."
   ]
  },
  {
   "cell_type": "code",
   "execution_count": 211,
   "metadata": {
    "colab": {
     "base_uri": "https://localhost:8080/",
     "height": 0
    },
    "id": "S5evoNC_0H7E",
    "outputId": "8b652759-d632-4e85-befe-457747da27d1"
   },
   "outputs": [
    {
     "data": {
      "text/plain": [
       "0.6392539611329757"
      ]
     },
     "execution_count": 211,
     "metadata": {},
     "output_type": "execute_result"
    }
   ],
   "source": [
    "from sklearn.neighbors import KNeighborsRegressor\n",
    "neigh = KNeighborsRegressor(n_neighbors=2)\n",
    "neigh.fit(x_train,y_train)\n",
    "predictions = neigh.predict(x_test)\n",
    "r2_score(y_test,predictions)"
   ]
  },
  {
   "cell_type": "code",
   "execution_count": 212,
   "metadata": {
    "colab": {
     "base_uri": "https://localhost:8080/",
     "height": 0
    },
    "id": "IhEpDNtl22EM",
    "outputId": "1dfeba31-15d0-4477-eeda-66eb1653cc38"
   },
   "outputs": [
    {
     "name": "stdout",
     "output_type": "stream",
     "text": [
      "MSE : 3.8088235294117645\n"
     ]
    }
   ],
   "source": [
    "mse = mean_squared_error(y_test, predictions)\n",
    "print (\"MSE :\", mse)"
   ]
  },
  {
   "cell_type": "markdown",
   "metadata": {
    "id": "45EfNFyi6hH0"
   },
   "source": [
    "**Result Analysis** -\n",
    "\n",
    "We have used 4 differenent models -\n",
    "> Linear Regeression\n",
    "> Ridge Regression\n",
    "> Lasso Regression\n",
    "> KNN Regression\n",
    "\n",
    "An choses metrics are -\n",
    "\n",
    "> MSE\n",
    "    > Resons - MSE is used to check how close estimates or forecasts are to actual values. Lower the MSE, the closer is forecast to actual. This is used as a model evaluation measure for regression models and the lower value indicates a better fit.\n",
    "\n",
    "> R2 score\n",
    "    > Reason - R-Squared shows how well a regression model (independent variable) predicts the outcome of observed data (dependent variable).\n",
    "\n",
    "\n",
    "From the results below we can see that Ridge and Linear regression provides better results compare to Lasso, and KNN regressor lacks in giving good result compare to others.\n",
    "\n",
    "\n",
    "![Screenshot 2023-08-20 at 10.48.41 PM.png](data:image/png;base64,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)"
   ]
  },
  {
   "cell_type": "markdown",
   "metadata": {
    "id": "f0uhQcao9cxF"
   },
   "source": [
    "**Conclusion and observations**\n",
    "\n",
    "\n",
    "We. can see from the results Ridge and Linear regression comes out as the best model among the four models.\n",
    "\n",
    "Our goal was to poredict the average temperature of a specific day.\n",
    "\n",
    "From the results we see the R2 score of Ridge regression is slightly better than Linear Regression.\n",
    "\n",
    "We saw KNN Regressor not able to provide good results compare to other models. Even the Mean squared error is very high compare to others.\n",
    "\n",
    "***Drawback of KNN ***-\n",
    "Does not work well with high dimensionality as this will complicate the distance calculating process to calculate distance for each dimension."
   ]
  },
  {
   "cell_type": "markdown",
   "metadata": {
    "id": "iHQC1_TKw60y"
   },
   "source": [
    "## *Ensemble*"
   ]
  },
  {
   "cell_type": "markdown",
   "metadata": {
    "id": "BrXdmMv-EgDd"
   },
   "source": [
    "###Attributes of interest - Amount of rainfall\n",
    "In this section we will mainly consider the amount of rainfall as our desired criteria, so that we can decide teh day as \"rainy\" based on the amount of rainfall\n",
    "The logic is if rainfall is greater than mean of vaerage rainfall .51, we declare the day as Rainy\n",
    "Note : It is for experiment purpose we have decided the threshold as .51, our data will provide an estimate for the audience based on which they can make plans like -\n",
    "(Organizing an outdoor sports match, a little rain will not affect the game but too much rain can make the match abandoned)"
   ]
  },
  {
   "cell_type": "code",
   "execution_count": 74,
   "metadata": {
    "id": "DwCm6P6hl2cE"
   },
   "outputs": [],
   "source": [
    "#dropping the rainfall column\n",
    "X_data = data.drop(['Rainfall'], axis=1)"
   ]
  },
  {
   "cell_type": "markdown",
   "metadata": {
    "id": "ALbMEtaeFTE9"
   },
   "source": [
    "###Feature Engg. and Pre-processing\n"
   ]
  },
  {
   "cell_type": "markdown",
   "metadata": {
    "id": "myi1hRFjF_Ry"
   },
   "source": [
    "Based on amount of Rainfall creating another column \"Rainy\" (Values supported - 0 and 1) where 1 indicates the day as Rainy and 0 for not Rainy"
   ]
  },
  {
   "cell_type": "code",
   "execution_count": 62,
   "metadata": {
    "colab": {
     "base_uri": "https://localhost:8080/",
     "height": 0
    },
    "id": "6sUQv8-U0YHj",
    "outputId": "3a2dfb73-3ed1-4e64-8a65-a569263c4084"
   },
   "outputs": [
    {
     "data": {
      "text/plain": [
       "0       0\n",
       "1       0\n",
       "2       0\n",
       "3       0\n",
       "4       0\n",
       "       ..\n",
       "1270    0\n",
       "1271    0\n",
       "1272    0\n",
       "1273    0\n",
       "1274    0\n",
       "Name: Rainy, Length: 1275, dtype: object"
      ]
     },
     "execution_count": 62,
     "metadata": {},
     "output_type": "execute_result"
    }
   ],
   "source": [
    "df = DataFrame(data, columns =['Rainfall'])\n",
    "total_data = DataFrame(data)\n",
    "\n",
    "df['Rainy'] = df['Rainfall'].apply(lambda x: '0' if x < .51 else '1')\n",
    "Y_data = df['Rainy']\n",
    "Y_data"
   ]
  },
  {
   "cell_type": "markdown",
   "metadata": {
    "id": "kXOrniGJGBM5"
   },
   "source": [
    "Using Standard scaler fot transforming the values of X_data"
   ]
  },
  {
   "cell_type": "code",
   "execution_count": 63,
   "metadata": {
    "colab": {
     "base_uri": "https://localhost:8080/",
     "height": 0
    },
    "id": "rZGc5cHaxHgR",
    "outputId": "9abcf6c3-bc7b-4a55-ad4d-ff458ce91d06"
   },
   "outputs": [
    {
     "data": {
      "text/plain": [
       "array([[-1.40147454, -1.64625184, -1.49631236, -1.59812766, -1.68719661,\n",
       "        -1.84496997, -2.21887847, -1.74064142, -1.39176779, -1.44936742,\n",
       "        -0.95000062, -0.65671708,  1.33688134,  1.44835157,  1.46826247,\n",
       "        -0.549313  , -0.3855049 ,  0.06695525,  0.261952  ,  0.63019981],\n",
       "       [-1.40147454, -1.64625184, -1.38084218, -1.59812766, -1.9917663 ,\n",
       "        -1.84496997, -1.96668823, -1.74064142, -1.39176779, -1.44936742,\n",
       "        -0.66315562, -0.41865772,  1.1382652 ,  1.03752882,  1.06138687,\n",
       "        -0.549313  , -1.33806061, -0.61056813,  1.42500061,  0.06369038],\n",
       "       [-1.40147454, -1.64625184, -1.265372  , -2.2989403 , -2.29633598,\n",
       "        -2.32968802, -2.21887847, -1.74064142, -1.21358686, -0.59209174,\n",
       "        -0.28069564, -0.18059836,  0.74103292,  0.62670608,  0.85794907,\n",
       "        -0.95438766, -2.29061632, -0.61056813,  0.261952  ,  0.16366263]])"
      ]
     },
     "execution_count": 63,
     "metadata": {},
     "output_type": "execute_result"
    }
   ],
   "source": [
    "from sklearn.preprocessing import StandardScaler\n",
    "scaler = StandardScaler()\n",
    "X_scaled = scaler.fit_transform(X_data)\n",
    "X_scaled[:3]"
   ]
  },
  {
   "cell_type": "markdown",
   "metadata": {
    "id": "5-caCB_dGXEX"
   },
   "source": [
    "Splitting the dataset in train and test"
   ]
  },
  {
   "cell_type": "code",
   "execution_count": 64,
   "metadata": {
    "id": "6fTtcT64x2m7"
   },
   "outputs": [],
   "source": [
    "X_train, X_test, Y_train, Y_test = train_test_split(X_scaled, Y_data, random_state = 10)"
   ]
  },
  {
   "cell_type": "markdown",
   "metadata": {
    "id": "9NmWbq1MG1y7"
   },
   "source": [
    "Shaoes of X_train and Y_train"
   ]
  },
  {
   "cell_type": "code",
   "execution_count": 65,
   "metadata": {
    "colab": {
     "base_uri": "https://localhost:8080/",
     "height": 0
    },
    "id": "jvr6cU7jyXBG",
    "outputId": "267ded47-f8bc-4e4f-f461-6033e62ed37b"
   },
   "outputs": [
    {
     "data": {
      "text/plain": [
       "(956, 20)"
      ]
     },
     "execution_count": 65,
     "metadata": {},
     "output_type": "execute_result"
    }
   ],
   "source": [
    "X_train.shape"
   ]
  },
  {
   "cell_type": "code",
   "execution_count": 66,
   "metadata": {
    "colab": {
     "base_uri": "https://localhost:8080/",
     "height": 0
    },
    "id": "Cr23rwt9zuXh",
    "outputId": "ae84b2f6-d34d-4fb2-9b7e-bec9e021fcff"
   },
   "outputs": [
    {
     "data": {
      "text/plain": [
       "0    722\n",
       "1    234\n",
       "Name: Rainy, dtype: int64"
      ]
     },
     "execution_count": 66,
     "metadata": {},
     "output_type": "execute_result"
    }
   ],
   "source": [
    "Y_train.value_counts()"
   ]
  },
  {
   "cell_type": "markdown",
   "metadata": {
    "id": "qHKsmFa_IYC2"
   },
   "source": [
    "###Machine Learning activity"
   ]
  },
  {
   "cell_type": "markdown",
   "metadata": {
    "id": "LUVcHVW6HQzv"
   },
   "source": [
    "Creating cross value scores by applying Decision tree Classifier on X_data and Y_data"
   ]
  },
  {
   "cell_type": "code",
   "execution_count": 67,
   "metadata": {
    "colab": {
     "base_uri": "https://localhost:8080/",
     "height": 0
    },
    "id": "0BfkNkm90sl6",
    "outputId": "d6d60f42-9f63-4b5c-8f2c-7f941747abea"
   },
   "outputs": [
    {
     "data": {
      "text/plain": [
       "array([0.6745098 , 0.7254902 , 0.81176471, 0.70196078, 0.66666667])"
      ]
     },
     "execution_count": 67,
     "metadata": {},
     "output_type": "execute_result"
    }
   ],
   "source": [
    "from sklearn.tree import DecisionTreeClassifier\n",
    "from sklearn.model_selection import cross_val_score\n",
    "scores = cross_val_score(DecisionTreeClassifier(), X_data, Y_data, cv=5)\n",
    "scores"
   ]
  },
  {
   "cell_type": "code",
   "execution_count": 68,
   "metadata": {
    "colab": {
     "base_uri": "https://localhost:8080/",
     "height": 0
    },
    "id": "8o7aIbCF1rld",
    "outputId": "9c146efa-903a-4a7a-affa-eba466485a3d"
   },
   "outputs": [
    {
     "data": {
      "text/plain": [
       "0.716078431372549"
      ]
     },
     "execution_count": 68,
     "metadata": {},
     "output_type": "execute_result"
    }
   ],
   "source": [
    "#mean of scores -\n",
    "scores.mean()"
   ]
  },
  {
   "cell_type": "markdown",
   "metadata": {
    "id": "_ur6UL32ISC1"
   },
   "source": [
    "1: Using BaggingClassifier for Ensemble\n",
    "\n",
    "**Bagging classifier**\n",
    "\n",
    "A Bagging classifier is an ensemble meta-estimator that fits base classifiers each on random subsets of the original dataset and then aggregate their individual predictions (either by voting or by averaging) to form a final prediction. Such a meta-estimator can typically be used as a way to reduce the variance of a black-box estimator (e.g., a decision tree), by introducing randomization into its construction procedure and then making an ensemble out of it.\n",
    "\n",
    "Reasonn to choose or Advantages -\n",
    "\n",
    "***Improved Predictive Performance***: Bagging Classifier often outperforms single classifiers by reducing overfitting and increasing predictive accuracy. By combining multiple base models, it can better generalize to unseen data.\n",
    "\n",
    "***Robustness***: Bagging reduces the impact of outliers and noise in the data by aggregating predictions from multiple models. This enhances the overall stability and robustness of the model.\n"
   ]
  },
  {
   "cell_type": "code",
   "execution_count": 69,
   "metadata": {
    "colab": {
     "base_uri": "https://localhost:8080/",
     "height": 0
    },
    "id": "Chv2wIEZ1t29",
    "outputId": "eaa44623-ddde-44b4-bf25-3130d5f7e58d"
   },
   "outputs": [
    {
     "name": "stderr",
     "output_type": "stream",
     "text": [
      "/usr/local/lib/python3.10/dist-packages/sklearn/ensemble/_base.py:166: FutureWarning: `base_estimator` was renamed to `estimator` in version 1.2 and will be removed in 1.4.\n",
      "  warnings.warn(\n"
     ]
    },
    {
     "data": {
      "text/plain": [
       "0.8211297071129707"
      ]
     },
     "execution_count": 69,
     "metadata": {},
     "output_type": "execute_result"
    }
   ],
   "source": [
    "from sklearn.ensemble import BaggingClassifier\n",
    "bag_model = BaggingClassifier(\n",
    "    base_estimator=DecisionTreeClassifier(),\n",
    "    n_estimators=100,\n",
    "    max_samples=0.80,\n",
    "    oob_score=True,\n",
    "    random_state=0\n",
    ")\n",
    "bag_model.fit(X_train, Y_train)\n",
    "bag_model.oob_score_"
   ]
  },
  {
   "cell_type": "code",
   "execution_count": 70,
   "metadata": {
    "colab": {
     "base_uri": "https://localhost:8080/",
     "height": 0
    },
    "id": "6j7lGalr4qf7",
    "outputId": "27202f43-9d33-498d-bbd8-16248c977060"
   },
   "outputs": [
    {
     "data": {
      "text/plain": [
       "0.8181818181818182"
      ]
     },
     "execution_count": 70,
     "metadata": {},
     "output_type": "execute_result"
    }
   ],
   "source": [
    "bag_model.score(X_test, Y_test)"
   ]
  },
  {
   "cell_type": "code",
   "execution_count": 71,
   "metadata": {
    "colab": {
     "base_uri": "https://localhost:8080/",
     "height": 0
    },
    "id": "iWpF1bo54zAJ",
    "outputId": "9e5f98bf-76b5-4c17-c683-a97336495375"
   },
   "outputs": [
    {
     "name": "stderr",
     "output_type": "stream",
     "text": [
      "/usr/local/lib/python3.10/dist-packages/sklearn/ensemble/_base.py:166: FutureWarning: `base_estimator` was renamed to `estimator` in version 1.2 and will be removed in 1.4.\n",
      "  warnings.warn(\n",
      "/usr/local/lib/python3.10/dist-packages/sklearn/ensemble/_base.py:166: FutureWarning: `base_estimator` was renamed to `estimator` in version 1.2 and will be removed in 1.4.\n",
      "  warnings.warn(\n",
      "/usr/local/lib/python3.10/dist-packages/sklearn/ensemble/_base.py:166: FutureWarning: `base_estimator` was renamed to `estimator` in version 1.2 and will be removed in 1.4.\n",
      "  warnings.warn(\n",
      "/usr/local/lib/python3.10/dist-packages/sklearn/ensemble/_base.py:166: FutureWarning: `base_estimator` was renamed to `estimator` in version 1.2 and will be removed in 1.4.\n",
      "  warnings.warn(\n",
      "/usr/local/lib/python3.10/dist-packages/sklearn/ensemble/_base.py:166: FutureWarning: `base_estimator` was renamed to `estimator` in version 1.2 and will be removed in 1.4.\n",
      "  warnings.warn(\n"
     ]
    },
    {
     "data": {
      "text/plain": [
       "array([0.77254902, 0.83921569, 0.85098039, 0.78823529, 0.68627451])"
      ]
     },
     "execution_count": 71,
     "metadata": {},
     "output_type": "execute_result"
    }
   ],
   "source": [
    "bag_model = BaggingClassifier(\n",
    "    base_estimator=DecisionTreeClassifier(),\n",
    "    n_estimators=100,\n",
    "    max_samples=0.80,\n",
    "    oob_score=True,\n",
    "    random_state=0\n",
    ")\n",
    "\n",
    "scores = cross_val_score(bag_model, X_data, Y_data, cv=5)\n",
    "scores\n"
   ]
  },
  {
   "cell_type": "code",
   "execution_count": 72,
   "metadata": {
    "colab": {
     "base_uri": "https://localhost:8080/",
     "height": 0
    },
    "id": "UKOc_DD45LCT",
    "outputId": "fe02777e-b533-4c61-8bff-de37f086ae48"
   },
   "outputs": [
    {
     "data": {
      "text/plain": [
       "0.7874509803921569"
      ]
     },
     "execution_count": 72,
     "metadata": {},
     "output_type": "execute_result"
    }
   ],
   "source": [
    "scores.mean()"
   ]
  },
  {
   "cell_type": "markdown",
   "metadata": {
    "id": "hpr1R9WnOzJM"
   },
   "source": [
    "2: Using RandomForest Classifier model elsemble\n",
    "\n",
    "random forest classifier.\n",
    "\n",
    "A random forest is a meta estimator that fits a number of decision tree classifiers on various sub-samples of the dataset and uses averaging to improve the predictive accuracy and control over-fitting. The sub-sample size is controlled with the max_samples parameter if bootstrap=True (default), otherwise the whole dataset is used to build each tree.\n",
    "\n",
    "*Reason to choose or Advantages-*\n",
    "\n",
    "Unlike bagging, random forest also involves selecting a subset of input features (columns or variables) at each split point in the construction of trees. Typically, constructing a decision tree involves evaluating the value for each input variable in the data in order to select a split point. By reducing the features to a random subset that may be considered at each split point, it forces each decision tree in the ensemble to be more different."
   ]
  },
  {
   "cell_type": "code",
   "execution_count": 73,
   "metadata": {
    "colab": {
     "base_uri": "https://localhost:8080/",
     "height": 0
    },
    "id": "kwCnOY-g5ogn",
    "outputId": "55780ae2-8ee5-48ef-aa3d-82c23ee86f46"
   },
   "outputs": [
    {
     "data": {
      "text/plain": [
       "0.8047058823529412"
      ]
     },
     "execution_count": 73,
     "metadata": {},
     "output_type": "execute_result"
    }
   ],
   "source": [
    "from sklearn.ensemble import RandomForestClassifier\n",
    "scores = cross_val_score(RandomForestClassifier(), X_data, Y_data, cv=5)\n",
    "scores.mean()"
   ]
  },
  {
   "cell_type": "markdown",
   "metadata": {
    "id": "gbWqJdBiQYkw"
   },
   "source": [
    "###Observations"
   ]
  },
  {
   "cell_type": "markdown",
   "metadata": {
    "id": "soHk4UndQe6o"
   },
   "source": [
    "Metric used for analysis - Mean of Cross Value score array\n",
    "\n",
    "Mean achieved from Bagging Classifier -\n",
    "0.7874\n",
    "\n",
    "Mean achieved from Random forest classifier -\n",
    "0.8047\n",
    "\n",
    "From our experiment we can conclude that -\n",
    "Our goal was to predict the day is Rainy or not. After our experiment we can say that the Random Forest Classifier ensemble provides us more success compare to Bagging classifier."
   ]
  }
 ],
 "metadata": {
  "colab": {
   "provenance": []
  },
  "kernelspec": {
   "display_name": "Python 3 (ipykernel)",
   "language": "python",
   "name": "python3"
  },
  "language_info": {
   "codemirror_mode": {
    "name": "ipython",
    "version": 3
   },
   "file_extension": ".py",
   "mimetype": "text/x-python",
   "name": "python",
   "nbconvert_exporter": "python",
   "pygments_lexer": "ipython3",
   "version": "3.9.13"
  }
 },
 "nbformat": 4,
 "nbformat_minor": 1
}
